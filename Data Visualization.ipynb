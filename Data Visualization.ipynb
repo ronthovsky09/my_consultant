{
  "nbformat": 4,
  "nbformat_minor": 0,
  "metadata": {
    "colab": {
      "name": "spotify_doc2",
      "provenance": [],
      "collapsed_sections": []
    },
    "kernelspec": {
      "name": "python3",
      "display_name": "Python 3"
    },
    "language_info": {
      "name": "python"
    }
  },
  "cells": [
    {
      "cell_type": "code",
      "metadata": {
        "id": "9vRWbmXZn5XJ"
      },
      "source": [
        "from google.colab import drive\n",
        "drive.mount('/content/drive')"
      ],
      "execution_count": null,
      "outputs": []
    },
    {
      "cell_type": "code",
      "metadata": {
        "id": "WKiE0XGGoBUQ"
      },
      "source": [
        "import pandas as pd"
      ],
      "execution_count": null,
      "outputs": []
    },
    {
      "cell_type": "code",
      "metadata": {
        "id": "3Egd9tiSoRex"
      },
      "source": [
        "df = pd.read_csv('/content/drive/MyDrive/Project Programming/archive/data_final_releasdate_sentiment.csv')\n",
        "df"
      ],
      "execution_count": null,
      "outputs": []
    },
    {
      "cell_type": "code",
      "metadata": {
        "id": "o-lpzmSTggj9"
      },
      "source": [
        "df_average = pd.read_csv('/content/drive/MyDrive/Project Programming/archive/genres_with_average_scores.csv')\n",
        "df_average"
      ],
      "execution_count": null,
      "outputs": []
    },
    {
      "cell_type": "code",
      "metadata": {
        "id": "nemAOnerheEN"
      },
      "source": [
        ""
      ],
      "execution_count": null,
      "outputs": []
    },
    {
      "cell_type": "code",
      "metadata": {
        "id": "koJCU_OlqokG"
      },
      "source": [
        "df=df.drop(columns=['Unnamed: 0'])\n",
        "df"
      ],
      "execution_count": null,
      "outputs": []
    },
    {
      "cell_type": "code",
      "metadata": {
        "id": "Kg9NvrIJv4g8"
      },
      "source": [
        "lyrics=df.lyrics.tolist()\n",
        "length=[]\n",
        "for lyric in lyrics:\n",
        "  splitting = lyric.split(' ') \n",
        "  length+=[(len(splitting))]\n",
        "length"
      ],
      "execution_count": null,
      "outputs": []
    },
    {
      "cell_type": "code",
      "metadata": {
        "id": "A-PZEyhTwZKb"
      },
      "source": [
        "df['words']=length\n",
        "df"
      ],
      "execution_count": null,
      "outputs": []
    },
    {
      "cell_type": "code",
      "metadata": {
        "id": "mPOzEalSpSS8"
      },
      "source": [
        "from sklearn.linear_model import LinearRegression"
      ],
      "execution_count": null,
      "outputs": []
    },
    {
      "cell_type": "code",
      "metadata": {
        "id": "pMijtYGbp_GO"
      },
      "source": [
        "lr = LinearRegression()\n"
      ],
      "execution_count": null,
      "outputs": []
    },
    {
      "cell_type": "code",
      "metadata": {
        "id": "1OJ6_jKGqF3C"
      },
      "source": [
        "x_label='danceability'\n",
        "y_label=\"valence\"\n",
        "X=df[['danceability']]\n",
        "y=df[y_label]\n",
        "X,y"
      ],
      "execution_count": null,
      "outputs": []
    },
    {
      "cell_type": "code",
      "metadata": {
        "id": "j-x3p31TqQxW"
      },
      "source": [
        "lr.fit(X,y)\n",
        "print(lr.score(X,y))"
      ],
      "execution_count": null,
      "outputs": []
    },
    {
      "cell_type": "code",
      "metadata": {
        "id": "JtNo5BHHsH2u"
      },
      "source": [
        "import matplotlib.pyplot as plt\n",
        "plt.scatter(X,y)\n"
      ],
      "execution_count": null,
      "outputs": []
    },
    {
      "cell_type": "code",
      "metadata": {
        "id": "_eKt861vqbnZ"
      },
      "source": [
        "columns=df.columns.tolist()\n",
        "columns=columns[1::]\n",
        "columns=columns"
      ],
      "execution_count": null,
      "outputs": []
    },
    {
      "cell_type": "code",
      "metadata": {
        "id": "LZ2KiwoPsFKx"
      },
      "source": [
        "columns1=[]\n",
        "for column in columns: \n",
        "  if column=='artist' or column=='title' or column=='lyrics': \n",
        "    continue\n",
        "  else: \n",
        "    columns1+=[column]\n",
        "columns1"
      ],
      "execution_count": null,
      "outputs": []
    },
    {
      "cell_type": "code",
      "metadata": {
        "id": "aT2THivHuWLr"
      },
      "source": [
        "plt.hist(df.danceability, color=['orange'])\n",
        "plt.title(\"Danceability Histogram Chart\")\n",
        "plt.xlabel(\"Danceability\")\n",
        "plt.ylabel(\"Frequency\")"
      ],
      "execution_count": null,
      "outputs": []
    },
    {
      "cell_type": "code",
      "metadata": {
        "id": "4JtD5EVcikBp"
      },
      "source": [
        "plt.hist(df.sentiment_analysis, color='green')\n",
        "plt.title(\"Sentiment Analysis Histogram Chart\")\n",
        "plt.xlabel(\"Sentiment Analysis\")\n",
        "plt.ylabel(\"Frequency\")"
      ],
      "execution_count": null,
      "outputs": []
    },
    {
      "cell_type": "code",
      "metadata": {
        "id": "flVgqFAtu44I"
      },
      "source": [
        "plt.hist(df.tempo_x, color='black')\n",
        "plt.title(\"Tempo Histogram Chart\")\n",
        "plt.xlabel(\"Tempo (BPM)\")\n",
        "plt.ylabel(\"Frequency\")"
      ],
      "execution_count": null,
      "outputs": []
    },
    {
      "cell_type": "code",
      "metadata": {
        "id": "Gk9Ax4ocvWMM"
      },
      "source": [
        "plt.hist(df.energy, color='purple')\n",
        "plt.title(\"Energy Histogram Chart\")\n",
        "plt.xlabel(\"Energy\")\n",
        "plt.ylabel(\"Frequency\")"
      ],
      "execution_count": null,
      "outputs": []
    },
    {
      "cell_type": "code",
      "metadata": {
        "id": "cjPSKRScvcRw"
      },
      "source": [
        "plt.hist(df.loudness, color='red')\n",
        "plt.title(\"Loudness Histogram Chart\")\n",
        "plt.xlabel(\"Loudness\")\n",
        "plt.ylabel(\"Frequency\")"
      ],
      "execution_count": null,
      "outputs": []
    },
    {
      "cell_type": "code",
      "metadata": {
        "id": "sZxtaYkJvi7B"
      },
      "source": [
        "plt.hist(df.loudness, color='blue')\n",
        "plt.title(\"Speechiness Histogram Chart\")\n",
        "plt.xlabel(\"Speechiness\")\n",
        "plt.ylabel(\"Frequency\")"
      ],
      "execution_count": null,
      "outputs": []
    },
    {
      "cell_type": "code",
      "metadata": {
        "id": "Z1tLaaf1vnKQ"
      },
      "source": [
        "plt.hist(df.acousticness, color='red')\n",
        "plt.title(\"Accousticness Histogram Chart\")\n",
        "plt.xlabel(\"Accoustiness\")\n",
        "plt.ylabel(\"Frequency\")"
      ],
      "execution_count": null,
      "outputs": []
    },
    {
      "cell_type": "code",
      "metadata": {
        "id": "7SOps01KvrIu"
      },
      "source": [
        "plt.hist(df.instrumentalness, color='yellow')\n",
        "plt.title(\"Instrumentalness Histogram Chart\")\n",
        "plt.xlabel(\"Instrumentalness\")\n",
        "plt.ylabel(\"Frequency\")"
      ],
      "execution_count": null,
      "outputs": []
    },
    {
      "cell_type": "code",
      "metadata": {
        "id": "RkEYIN6IvwMj"
      },
      "source": [
        "plt.hist(df.liveness, color='indigo')\n",
        "plt.title(\"Liveness Histogram Chart\")\n",
        "plt.xlabel(\"Liveness\")\n",
        "plt.ylabel(\"Frequency\")"
      ],
      "execution_count": null,
      "outputs": []
    },
    {
      "cell_type": "code",
      "metadata": {
        "id": "vyUT2nZIvzeb"
      },
      "source": [
        "plt.hist(df.valence, color='maroon')\n",
        "plt.title(\"Valence Histogram Chart\")\n",
        "plt.xlabel(\"Valence\")\n",
        "plt.ylabel(\"Frequency\")"
      ],
      "execution_count": null,
      "outputs": []
    },
    {
      "cell_type": "code",
      "metadata": {
        "id": "q_Z9vvfwu-Z4"
      },
      "source": [
        "df2=pd.read_csv('/content/drive/MyDrive/Project Programming/archive/data_final_releasdate_sentiment.csv')\n",
        "df2"
      ],
      "execution_count": null,
      "outputs": []
    },
    {
      "cell_type": "code",
      "metadata": {
        "id": "yPHFQ3o1widA"
      },
      "source": [
        "#questions: classification of genres\n",
        "#question2: forecasting\n"
      ],
      "execution_count": null,
      "outputs": []
    },
    {
      "cell_type": "code",
      "metadata": {
        "id": "fUqjVLf_3ikx"
      },
      "source": [
        "df_year=pd.read_csv('/content/drive/MyDrive/Project Programming/archive/data_by_year_o.csv')\n",
        "df_year\n",
        "year_avg = df_year[[\"acousticness\",\"danceability\",\"energy\", \"instrumentalness\", \n",
        "               \"liveness\",\"tempo\", \"valence\", \"loudness\", \"speechiness\", \"year\"]].groupby(\"year\").mean().sort_values(by=\"year\").reset_index()\n",
        "\n",
        "import matplotlib.pyplot as plt\n",
        "import seaborn as sns\n",
        "# Create a line plot\n",
        "plt.figure(figsize=(14,8))\n",
        "plt.title(\"Song Trends Over Time\", fontdict={\"fontsize\": 15})\n",
        "\n",
        "lines = [\"acousticness\",\"danceability\",\"energy\", \n",
        "         \"instrumentalness\", \"liveness\", \"valence\", \"speechiness\"]\n",
        "\n",
        "for line in lines:\n",
        "    ax = sns.lineplot(x='year', y=line, data=year_avg)\n",
        "    \n",
        "    \n",
        "plt.ylabel(\"value\")\n",
        "plt.legend(lines)"
      ],
      "execution_count": null,
      "outputs": []
    },
    {
      "cell_type": "code",
      "metadata": {
        "id": "jn17xp67b-sY"
      },
      "source": [
        "#plotting the change per year\n",
        "#in the last 60 years\n",
        "df_year.energy.diff()[-20::].hist()"
      ],
      "execution_count": null,
      "outputs": []
    },
    {
      "cell_type": "code",
      "metadata": {
        "id": "C4tv0_nAcuOM"
      },
      "source": [
        "#normal linear regression \n",
        "import numpy as np\n",
        "lr=LinearRegression()\n",
        "X=df_year['energy'].diff()[-5::].shift(fill_value=0).to_numpy().reshape(-1,1)\n",
        "y=df_year.energy.diff()[-5::]\n",
        "lr.fit(X,y)"
      ],
      "execution_count": null,
      "outputs": []
    },
    {
      "cell_type": "code",
      "metadata": {
        "id": "jnPAGHlzeVWA"
      },
      "source": [
        "lr.score(X,y)"
      ],
      "execution_count": null,
      "outputs": []
    },
    {
      "cell_type": "code",
      "metadata": {
        "id": "JxifhDyOease"
      },
      "source": [
        "import matplotlib.pyplot as plt\n",
        "\n",
        "plt.scatter(X,y)"
      ],
      "execution_count": null,
      "outputs": []
    },
    {
      "cell_type": "code",
      "metadata": {
        "id": "1-Kcm-rbdr0s"
      },
      "source": [
        "df_year['energy'].diff()[-60::].shift(fill_value=0)\n"
      ],
      "execution_count": null,
      "outputs": []
    },
    {
      "cell_type": "code",
      "metadata": {
        "id": "Q7e3Bqvhg3Kh"
      },
      "source": [
        "df_new=df_year[df_year['year']>=2000]\n",
        "df_new"
      ],
      "execution_count": null,
      "outputs": []
    },
    {
      "cell_type": "code",
      "metadata": {
        "id": "6Y3L12PuhOoV"
      },
      "source": [
        "year_avg = df_new[[\"acousticness\",\"danceability\",\"energy\", \"instrumentalness\", \n",
        "               \"liveness\",\"tempo\", \"valence\", \"loudness\", \"speechiness\", \"year\"]].groupby(\"year\").mean().sort_values(by=\"year\").reset_index()\n",
        "\n",
        "import matplotlib.pyplot as plt\n",
        "import seaborn as sns\n",
        "# Create a line plot\n",
        "plt.figure(figsize=(14,8))\n",
        "plt.title(\"Song Trends from 2000-2020\", fontdict={\"fontsize\": 20})\n",
        "\n",
        "lines = [\"acousticness\",\"danceability\",\"energy\", \n",
        "         \"instrumentalness\", \"liveness\", \"valence\", \"speechiness\"]\n",
        "\n",
        "for line in lines:\n",
        "    ax = sns.lineplot(x='year', y=line, data=year_avg)\n",
        "    \n",
        "    \n",
        "plt.ylabel(\"value\")\n",
        "plt.legend(lines)"
      ],
      "execution_count": null,
      "outputs": []
    },
    {
      "cell_type": "code",
      "metadata": {
        "id": "WUKruOZugipq"
      },
      "source": [
        "!pip3 install pydataset"
      ],
      "execution_count": null,
      "outputs": []
    },
    {
      "cell_type": "code",
      "metadata": {
        "id": "M0tpj3npSWiT"
      },
      "source": [
        "import numpy as np\n",
        "from pydataset import data\n",
        "from scipy.stats import norm\n",
        "\n",
        "from matplotlib import pyplot as plt\n",
        "danceability=df.danceability\n"
      ],
      "execution_count": null,
      "outputs": []
    },
    {
      "cell_type": "code",
      "metadata": {
        "id": "p_PD2V3sggw4"
      },
      "source": [
        ""
      ],
      "execution_count": null,
      "outputs": []
    },
    {
      "cell_type": "code",
      "metadata": {
        "id": "OzLxda6_Wp1W"
      },
      "source": [
        ""
      ],
      "execution_count": null,
      "outputs": []
    },
    {
      "cell_type": "code",
      "metadata": {
        "id": "KPpxeL80WxWv"
      },
      "source": [
        "plt.hist(danceability)\n",
        "plt.show()"
      ],
      "execution_count": null,
      "outputs": []
    },
    {
      "cell_type": "code",
      "metadata": {
        "id": "3xJlHpagW-ot"
      },
      "source": [
        "import scipy.stats\n",
        "std=np.std(danceability,ddof=1)\n",
        "mean=np.mean(danceability)\n",
        "print(f'Std Dev (danceability):{std}\\nMean (danceability): {mean}')\n",
        "#input danceability\n",
        "input_danceability=float(input('Input danceability: '))\n",
        "output_danceability=(scipy.stats.percentileofscore(danceability,input_danceability))\n",
        "output_danceability\n"
      ],
      "execution_count": null,
      "outputs": []
    },
    {
      "cell_type": "code",
      "metadata": {
        "id": "tsLNNvk3XOD_"
      },
      "source": [
        "domain=np.linspace(np.min(danceability),np.max(danceability))\n",
        "plt.plot(domain,norm.pdf(domain,mean,std),\n",
        "         label='$\\mathcal{N}$ '+ f'$( \\mu \\\\approx {round(mean)} )$')\n",
        "plt.hist(danceability, edgecolor='black',alpha=.5,density=True)\n",
        "plt.title('Normal Fit')\n",
        "plt.xlabel('Danceability')\n",
        "plt.ylabel('Frequency')\n",
        "plt.legend()\n",
        "plt.show()"
      ],
      "execution_count": null,
      "outputs": []
    },
    {
      "cell_type": "code",
      "metadata": {
        "id": "-pyp-PaHd5P1"
      },
      "source": [
        "#danceability, tempo, energy, loudness \n",
        "danceability_list=df.danceability.tolist()\n",
        "percentile_danceability =[]\n",
        "for number in danceability: \n",
        "  percentile=scipy.stats.percentileofscore(danceability,number)\n",
        "  percentile_danceability+=[percentile]\n",
        "\n",
        "percentile_danceability\n",
        "df['Danceability_percentile']=percentile_danceability"
      ],
      "execution_count": null,
      "outputs": []
    },
    {
      "cell_type": "code",
      "metadata": {
        "id": "lmQpOej_ewCX"
      },
      "source": [
        "percentile_danceability =[]\n",
        "tempo=df.tempo_x\n",
        "for number in tempo: \n",
        "  percentile=scipy.stats.percentileofscore(tempo,number)\n",
        "  percentile_danceability+=[percentile]\n",
        "\n",
        "percentile_danceability\n",
        "df['Tempo_percentile']=percentile_danceability"
      ],
      "execution_count": null,
      "outputs": []
    },
    {
      "cell_type": "code",
      "metadata": {
        "id": "N4HLr5CdfPxx"
      },
      "source": [
        "percentile_danceability =[]\n",
        "energy=df.energy\n",
        "for number in energy: \n",
        "  percentile=scipy.stats.percentileofscore(energy,number)\n",
        "  percentile_danceability+=[percentile]\n",
        "\n",
        "percentile_danceability\n",
        "df['Energy_percentile']=percentile_danceability"
      ],
      "execution_count": null,
      "outputs": []
    },
    {
      "cell_type": "code",
      "metadata": {
        "id": "qNxQOaIxfk2R"
      },
      "source": [
        "percentile_danceability =[]\n",
        "loudness=df.loudness\n",
        "for number in loudness: \n",
        "  percentile=scipy.stats.percentileofscore(loudness,number)\n",
        "  percentile_danceability+=[percentile]\n",
        "\n",
        "percentile_danceability\n",
        "df['Loudness_percentile']=percentile_danceability"
      ],
      "execution_count": null,
      "outputs": []
    },
    {
      "cell_type": "code",
      "metadata": {
        "id": "qtXiHpXTe13L"
      },
      "source": [
        "lr = LinearRegression()\n",
        "X=df[['danceability']]\n",
        "x=df.danceability\n",
        "y=df.valence\n",
        "lr.fit(X,y)\n"
      ],
      "execution_count": null,
      "outputs": []
    },
    {
      "cell_type": "code",
      "metadata": {
        "id": "PaSzG9SoXhPh"
      },
      "source": [
        "# Popularity of Genres with respect to the various features\n",
        "import seaborn as sns\n",
        "plt.figure(figsize=(16, 8))\n",
        "sns.set(style=\"whitegrid\")\n",
        "corr = df.corr()\n",
        "sns.heatmap(corr,annot=True,cmap=\"coolwarm\")"
      ],
      "execution_count": null,
      "outputs": []
    },
    {
      "cell_type": "code",
      "metadata": {
        "id": "YT3gaz5Ol5u8"
      },
      "source": [
        "\n",
        "# Popularity of Genres with respect to the various features\n",
        "plt.figure(figsize=(16, 8))\n",
        "sns.set(style=\"whitegrid\")\n",
        "cols = [\"valence\",\"acousticness\",\"instrumentalness\",\"speechiness\",\"danceability\",'sentiment_analysis']\n",
        "sns.pairplot(df[cols], height = 2.5)\n",
        "plt.show()"
      ],
      "execution_count": null,
      "outputs": []
    }
  ]
}