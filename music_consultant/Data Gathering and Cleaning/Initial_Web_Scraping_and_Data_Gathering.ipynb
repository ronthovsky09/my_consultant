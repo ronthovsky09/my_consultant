{
  "nbformat": 4,
  "nbformat_minor": 0,
  "metadata": {
    "colab": {
      "name": "Initial Web Scraping and Data Gathering.ipynb",
      "provenance": [],
      "collapsed_sections": []
    },
    "kernelspec": {
      "display_name": "Python 3",
      "name": "python3"
    }
  },
  "cells": [
    {
      "cell_type": "code",
      "metadata": {
        "id": "h61LCpaMMhRq"
      },
      "source": [
        "# We are trying to get the past year-end top 100 Billboard charts so we can analyze the elements of what makes \n",
        "# a \"hit.\" Specifically, we are looking at the lyrics of top hits and running sentiment analysis on these lyrics to see if \n",
        "# there is a correlation between lyric sentiment and popularity. For example, are the top songs typically positive songs? \n",
        "# From there we can predict what songs are likely to make it on the top charts. \n",
        "\n",
        "#Lags forecasting model\n"
      ],
      "execution_count": null,
      "outputs": []
    },
    {
      "cell_type": "code",
      "metadata": {
        "id": "1f-HgZTzO6c6"
      },
      "source": [
        "import pandas as pd\n",
        "df = pd.read_csv('tracks.csv')\n"
      ],
      "execution_count": null,
      "outputs": []
    },
    {
      "cell_type": "code",
      "metadata": {
        "colab": {
          "base_uri": "https://localhost:8080/"
        },
        "id": "1YMLP60pWkPC",
        "outputId": "c71532e0-5df5-43f4-fb77-d958857b2665"
      },
      "source": [
        "pip install lyricsgenius"
      ],
      "execution_count": null,
      "outputs": [
        {
          "output_type": "stream",
          "text": [
            "Collecting lyricsgenius\n",
            "\u001b[?25l  Downloading https://files.pythonhosted.org/packages/0d/32/be32f6922f70fd1b9900b50b228f6585cd60a96bdf03589df738f627d388/lyricsgenius-3.0.1-py3-none-any.whl (59kB)\n",
            "\r\u001b[K     |█████▌                          | 10kB 15.3MB/s eta 0:00:01\r\u001b[K     |███████████                     | 20kB 17.6MB/s eta 0:00:01\r\u001b[K     |████████████████▌               | 30kB 11.1MB/s eta 0:00:01\r\u001b[K     |██████████████████████          | 40kB 9.5MB/s eta 0:00:01\r\u001b[K     |███████████████████████████▋    | 51kB 8.2MB/s eta 0:00:01\r\u001b[K     |████████████████████████████████| 61kB 4.9MB/s \n",
            "\u001b[?25hRequirement already satisfied: requests>=2.20.0 in /usr/local/lib/python3.7/dist-packages (from lyricsgenius) (2.23.0)\n",
            "Requirement already satisfied: beautifulsoup4>=4.6.0 in /usr/local/lib/python3.7/dist-packages (from lyricsgenius) (4.6.3)\n",
            "Requirement already satisfied: chardet<4,>=3.0.2 in /usr/local/lib/python3.7/dist-packages (from requests>=2.20.0->lyricsgenius) (3.0.4)\n",
            "Requirement already satisfied: certifi>=2017.4.17 in /usr/local/lib/python3.7/dist-packages (from requests>=2.20.0->lyricsgenius) (2020.12.5)\n",
            "Requirement already satisfied: urllib3!=1.25.0,!=1.25.1,<1.26,>=1.21.1 in /usr/local/lib/python3.7/dist-packages (from requests>=2.20.0->lyricsgenius) (1.24.3)\n",
            "Requirement already satisfied: idna<3,>=2.5 in /usr/local/lib/python3.7/dist-packages (from requests>=2.20.0->lyricsgenius) (2.10)\n",
            "Installing collected packages: lyricsgenius\n",
            "Successfully installed lyricsgenius-3.0.1\n"
          ],
          "name": "stdout"
        }
      ]
    },
    {
      "cell_type": "code",
      "metadata": {
        "id": "JdtklXVg__dz"
      },
      "source": [
        "import requests\n",
        "import pandas as pd\n",
        "from bs4 import BeautifulSoup\n",
        "from lyricsgenius import Genius #using this library \n",
        "import json\n",
        "import re\n",
        "from requests import Timeout\n",
        "\n",
        "genius = Genius('fwGCDyDv4nWf2SWH4gwUcdFHYIz9bonCZb7zP1Yx1XqresJ7l9ZUxODfU8XKTe-Y')  # initializing with token\n",
        "\n",
        "\n",
        "# function to get lyrics of song based on artist and title (artist and title extracted in tophits(year))\n",
        "def getLyrics(artist, title):\n",
        "  originalArtist = artist\n",
        "  #Genius seems to list the artists by the first name in the list, but billboard returns it as artist A featuring artist B, or artist A & artist B (perhaps some more combinations)\n",
        "  if (\"feat\" in artist.lower()) :\n",
        "      artist = artist[:artist.lower().find(\"feat\")]\n",
        "  if (\"&\" in artist.lower()) :\n",
        "      artist = artist[:artist.lower().find(\"&\")]\n",
        "\n",
        "  global genius\n",
        "  try :\n",
        "      song = genius.search_song(title, artist)\n",
        "  except Timeout: # there are timeout exceptions after 20-30 some requests sometimes, so refreshing the connection.\n",
        "      genius = Genius('fwGCDyDv4nWf2SWH4gwUcdFHYIz9bonCZb7zP1Yx1XqresJ7l9ZUxODfU8XKTe-Y')\n",
        "      print (\"Genius session refreshed...\")\n",
        "      song = genius.search_song(title, artist)\n",
        "      # print(\"getting lyrics..\")\n",
        "  # print(artist + \":\" + title + \": \" + song.lyrics)\n",
        "\n",
        "  if (song is None): #checking if the song is not found, returning empty string to the caller method as a sign that we didn't find anything (ideally, return None but that breaks pandas import)\n",
        "      #but still, it would be nice to see in console that lyrics were not found, for debugging\n",
        "    print(originalArtist + \"(\" + artist + \"):\" + title + \": Lyrics not found\")\n",
        "    # return \"Lyrics not found\"\n",
        "    return \"\"\n",
        "  else:\n",
        "    raw_lyrics = song.lyrics\n",
        "    p = re.compile(\"\\\\[.*\\\\]\", re.MULTILINE)\n",
        "    clean_lyrics = p.sub(\"\", raw_lyrics)\n",
        "    return clean_lyrics #if the song is found, we return the lyrics\n",
        "\n",
        "# function that was used in class to get sentiment analysis that we will use to run lyrics through \n",
        "def getSentiment(password,text):\n",
        "    #if there were no lyrics found - there is nothing to send to this service - returning empty string right away.\n",
        "    if (text == \"\") :\n",
        "        return \"\"\n",
        "\n",
        "    endpoint = \"https://gateway.watsonplatform.net/natural-language-understanding/api/v1/analyze\"\n",
        "\n",
        "    username = \"apikey\"\n",
        "    body = {\n",
        "        'features': {'emotion': {}, 'sentiment': {}},\n",
        "        'version' : '2020-08-01',\n",
        "        'text'    : text\n",
        "    }\n",
        "\n",
        "    resp = requests.post(endpoint, json=body, auth=(username, password))\n",
        "    #if the response is not OK - print the response code and message for debug and return empty string\n",
        "    if (resp.status_code != 200) :\n",
        "        print(\"WatsonPlatform error: \" + str(resp.status_code) + \"(\" + resp.text + \")\")\n",
        "        return \"\"\n",
        "    data = resp.json()\n",
        "    # print(\"PRINTING DATA ----------- \\n\", data)\n",
        "\n",
        "    sentiment_score = data['sentiment']['document']['score']\n",
        "    # print (\"PRINTING SCORE ----------- \",sentiment_score)\n",
        "    return sentiment_score\n",
        "\n",
        "# function to return top 100 songs and their artists at the end of a given year\n",
        "# data stored as a dictionary first, later as a pandas data frame\n",
        "\n",
        "\n",
        "def tophits(year):\n",
        "\n",
        "  print(\"Getting hits for \" + year)\n",
        "  tophits={'title':[], 'artist' :[], 'lyrics':[], 'sentiment_analysis':[], 'sadness':[], 'joy':[], 'fear':[], 'disgust':[], 'anger':[]}\n",
        "\n",
        "  web_html = requests.get(\"https://www.billboard.com/charts/year-end/\" + year + \"/hot-100-songs\")\n",
        "  web_html.text\n",
        "  soup = BeautifulSoup(web_html.text, 'html.parser')\n",
        "\n",
        "  table = soup.find('div', {'class':'chart-details'})\n",
        " \n",
        "  i=0\n",
        "\n",
        "  for item in table.find_all('div', {'class': 'ye-chart-item__text'}):\n",
        "    title = item.find('div', {'class': 'ye-chart-item__title'}).text.strip('\\n').strip()\n",
        "    tophits['title'].append(title)\n",
        "    artist = item.find('div', {'class': 'ye-chart-item__artist'}).text.strip('\\n').strip()\n",
        "    tophits['artist'].append(artist)\n",
        "    lyrics = getLyrics(artist, title)\n",
        "    tophits['lyrics'].append(lyrics)\n",
        "    # print(i, lyrics)\n",
        "    sentiment_analysis = getSentiment(lyrics)\n",
        "    # print (i, \" PRINTING SCORE ----------- \",sentiment_analysis)\n",
        "    tophits['sentiment_analysis'].append(sentiment_analysis)\n",
        "    emotion = getEmotion(lyrics)\n",
        "    # print (i, \" PRINTING SCORE ----------- \",sentiment_analysis)\n",
        "    # i dont think this is necessary for the df itself, we can just use it on the lyrics provided by user\n",
        "    tophits['sadness'].append(emotion[0])\n",
        "    tophits['joy'].append(emotion[1])\n",
        "    tophits['fear'].append(emotion[2])\n",
        "    tophits['disgust'].append(emotion[3])\n",
        "    tophits['anger'].append(emotion[4])\n",
        "\n",
        "    # print(\"adding song number \" + str(i))\n",
        "    # i+=1\n",
        "    # if i==30: \n",
        "  df = pd.DataFrame(tophits)\n",
        "  return df"
      ],
      "execution_count": null,
      "outputs": []
    },
    {
      "cell_type": "code",
      "metadata": {
        "id": "Br5ORCT3o_9S"
      },
      "source": [
        "def getEmotion(text):\n",
        "    #if there were no lyrics found - there is nothing to send to this service - returning empty string right away.\n",
        "    if (text == \"\") :\n",
        "        return \" \"\n",
        "\n",
        "    endpoint = \"https://gateway.watsonplatform.net/natural-language-understanding/api/v1/analyze\"\n",
        "\n",
        "    username = \"apikey\"\n",
        "    password = \"***\"\n",
        "    \n",
        "    body = {\n",
        "        'features': {'emotion': {}, 'sentiment': {}},\n",
        "        'version' : '2018-11-16',\n",
        "        'text'    : text,\n",
        "        'language': 'en'\n",
        "    }\n",
        "\n",
        "    resp = requests.post(endpoint, json=body, auth=(username, password))\n",
        "    # print (\"RESP---------\", resp)\n",
        "    #if the response is not OK - print the response code and message for debug and return empty string\n",
        "    if (resp.status_code != 200) :\n",
        "        print(\"WatsonPlatform error: \" + str(resp.status_code) + \"(\" + resp.text + \")\")\n",
        "        return \"\"\n",
        "    data = resp.json()\n",
        "\n",
        "    sadness = data['emotion']['document']['emotion']['sadness']\n",
        "    joy = data['emotion']['document']['emotion']['joy']\n",
        "    fear = data['emotion']['document']['emotion']['fear']\n",
        "    disgust = data['emotion']['document']['emotion']['disgust']\n",
        "    anger = data['emotion']['document']['emotion']['anger']\n",
        "    # print (\"PRINTING SCORE ----------- \",sentiment_score)\n",
        "    return [sadness, joy, fear, disgust, anger]"
      ],
      "execution_count": null,
      "outputs": []
    },
    {
      "cell_type": "code",
      "metadata": {
        "id": "yTA24ekdCEJl"
      },
      "source": [
        "# Calling the tophits function "
      ],
      "execution_count": null,
      "outputs": []
    },
    {
      "cell_type": "code",
      "metadata": {
        "id": "E_kjKBeWADE-"
      },
      "source": [
        "df2020 = tophits('2020')"
      ],
      "execution_count": null,
      "outputs": []
    },
    {
      "cell_type": "code",
      "metadata": {
        "id": "aLuXcMdiBzhu"
      },
      "source": [
        "df2019 = tophits('2019')"
      ],
      "execution_count": null,
      "outputs": []
    },
    {
      "cell_type": "code",
      "metadata": {
        "id": "Y-W_zGe9B2AK"
      },
      "source": [
        "df2018 = tophits('2018')"
      ],
      "execution_count": null,
      "outputs": []
    },
    {
      "cell_type": "code",
      "metadata": {
        "id": "zcXXZ80nB6VW"
      },
      "source": [
        "df2017 = tophits('2017')"
      ],
      "execution_count": null,
      "outputs": []
    },
    {
      "cell_type": "code",
      "metadata": {
        "id": "Mf0KyneNCC2N"
      },
      "source": [
        "df2016 = tophits('2016')"
      ],
      "execution_count": null,
      "outputs": []
    },
    {
      "cell_type": "code",
      "metadata": {
        "id": "S-H26ubHCKzJ"
      },
      "source": [
        "df2015 = tophits('2015')"
      ],
      "execution_count": null,
      "outputs": []
    },
    {
      "cell_type": "code",
      "metadata": {
        "id": "ys411GFdCRuG"
      },
      "source": [
        "df2014 = tophits('2014')"
      ],
      "execution_count": null,
      "outputs": []
    },
    {
      "cell_type": "code",
      "metadata": {
        "id": "-wIrMcIcCh7H"
      },
      "source": [
        "df2013 = tophits('2013')"
      ],
      "execution_count": null,
      "outputs": []
    },
    {
      "cell_type": "code",
      "metadata": {
        "id": "BUKoctvWCjs3"
      },
      "source": [
        "df2012 = tophits('2012')"
      ],
      "execution_count": null,
      "outputs": []
    },
    {
      "cell_type": "code",
      "metadata": {
        "id": "dxiGFLoACljt"
      },
      "source": [
        "df2011 = tophits('2011')"
      ],
      "execution_count": null,
      "outputs": []
    },
    {
      "cell_type": "code",
      "metadata": {
        "id": "GD5YBSWSCBpQ"
      },
      "source": [
        "frames = [df2020,df2019,df2018,df2017,df2016,df2015,df2014,df2013,df2012,df2011]\n",
        "\n",
        "completedf = pandas.concat(frames)"
      ],
      "execution_count": null,
      "outputs": []
    },
    {
      "cell_type": "code",
      "metadata": {
        "colab": {
          "background_save": true
        },
        "id": "gIiMkjmzEqlZ"
      },
      "source": [
        "def get_info(track_id, TOKEN): \n",
        "    url = 'https://api.spotify.com/v1/tracks/' + track_id\n",
        "    headers = {\n",
        "    'Accept' : 'application/json',\n",
        "    'Content-Type': 'application/json',\n",
        "    'Authorization' : \"Bearer \" + TOKEN\n",
        "    }\n",
        "    response = requests.get(url, headers=headers)\n",
        "    info = response.json()\n",
        "    return info\n",
        "  "
      ],
      "execution_count": null,
      "outputs": []
    },
    {
      "cell_type": "code",
      "metadata": {
        "colab": {
          "base_uri": "https://localhost:8080/"
        },
        "id": "0Yx_BvCltdmS",
        "outputId": "0268d7d9-8912-4414-b591-c3b8caf4f94e"
      },
      "source": [
        "import requests\n",
        "import json\n",
        "import pandas as pd\n",
        "\n",
        "#Returns a list of spotify_ids\n",
        "def get_id(song_name,release_date, artist, TOKEN): \n",
        "    url =  'https://api.spotify.com/v1/search?q=' + str(song_name) + '&type=track'\n",
        "    headers = {\n",
        "    'Accept' : 'application/json',\n",
        "    'Content-Type': 'application/json',\n",
        "    'Authorization' : \"Bearer \" + TOKEN\n",
        "    }\n",
        "    response = requests.get(url, headers = headers)\n",
        "    tracks = response.json()\n",
        "    tracks = tracks['tracks']['items']\n",
        "    spotify_id = []\n",
        "    for track in tracks: \n",
        "        name = track[\"artists\"][0]['name']\n",
        "        date = track[\"album\"][\"release_date\"]\n",
        "        if name == artist and date == release_date: \n",
        "            spotify_id += [track[\"id\"]]\n",
        "    return spotify_id\n",
        "\n",
        "#Returns Audio Features from Spotify API\n",
        "def get_info(track_id, TOKEN): \n",
        "    url = 'https://api.spotify.com/v1/audio-features/' + track_id\n",
        "    headers = {\n",
        "    'Accept' : 'application/json',\n",
        "    'Content-Type': 'application/json',\n",
        "    'Authorization' : \"Bearer \" + TOKEN\n",
        "    }\n",
        "    response = requests.get(url, headers=headers)\n",
        "    info = response.json()\n",
        "    return info\n",
        "\n",
        "#Returns Audio Analysis APIs from Spotify \n",
        "def audio_analysis (track_id, TOKEN): \n",
        "    url = 'https://api.spotify.com/v1/audio-analysis/' + track_id\n",
        "    headers = {\n",
        "    'Accept' : 'application/json',\n",
        "    'Content-Type': 'application/json',\n",
        "    'Authorization' : \"Bearer \" + TOKEN\n",
        "    }\n",
        "    response = requests.get(url, headers=headers)\n",
        "    analysis = response.json()\n",
        "    return analysis\n",
        "\n",
        "\n",
        "TOKEN = '***'\n",
        "\n",
        "\n"
      ],
      "execution_count": null,
      "outputs": [
        {
          "output_type": "execute_result",
          "data": {
            "text/plain": [
              "[]"
            ]
          },
          "metadata": {
            "tags": []
          },
          "execution_count": 12
        }
      ]
    },
    {
      "cell_type": "code",
      "metadata": {
        "id": "tjj-ziB7AM3T"
      },
      "source": [
        "# importing to sql DB\n",
        "\n",
        "# Install the SQLAlchemy library if it is not installed\n",
        "!sudo apt-get install python3-dev libmysqlclient-dev > /dev/null\n",
        "!pip install mysqlclient > /dev/null\n",
        "!sudo pip3 install -U sql_magic > /dev/null\n",
        "!pip install psycopg2-binary > /dev/null\n",
        "\n"
      ],
      "execution_count": null,
      "outputs": []
    },
    {
      "cell_type": "code",
      "metadata": {
        "id": "v0l8yUluDj-E"
      },
      "source": [
        "from sqlalchemy import create_engine\n",
        "conn_string = 'mysql://{user}:{password}@{host}:{port}/{db}?charset=utf8'.format(\n",
        "    user='escAPIng_from_new_york', #user naades to change\n",
        "    password='***', \n",
        "    host = '***', \n",
        "    port=3306, \n",
        "    db='musicconsulting',\n",
        "    encoding = 'utf8mb4'\n",
        ")\n",
        "engine = create_engine(conn_string)\n",
        "engine "
      ],
      "execution_count": null,
      "outputs": []
    },
    {
      "cell_type": "code",
      "metadata": {
        "id": "K4YUvQyvH0wz",
        "colab": {
          "base_uri": "https://localhost:8080/",
          "height": 17
        },
        "outputId": "42750a95-d603-41e5-e692-65191a4a36e3"
      },
      "source": [
        "# Prepare sql_magic library that enable to query to database easily.\n",
        "%reload_ext sql_magic\n",
        "%config SQL.conn_name = 'engine'"
      ],
      "execution_count": null,
      "outputs": [
        {
          "output_type": "display_data",
          "data": {
            "application/javascript": [
              "\n",
              "    require(['notebook/js/codecell'], function(codecell) {\n",
              "      // https://github.com/jupyter/notebook/issues/2453\n",
              "      codecell.CodeCell.options_default.highlight_modes['magic_text/x-sql'] = {'reg':[/^%read_sql/, /.*=\\s*%read_sql/,\n",
              "                                                                                      /^%%read_sql/]};\n",
              "      Jupyter.notebook.events.one('kernel_ready.Kernel', function(){\n",
              "          console.log('BBBBB');\n",
              "          Jupyter.notebook.get_cells().map(function(cell){\n",
              "              if (cell.cell_type == 'code'){ cell.auto_highlight(); } }) ;\n",
              "      });\n",
              "    });\n",
              "    "
            ]
          },
          "metadata": {
            "tags": []
          }
        }
      ]
    },
    {
      "cell_type": "code",
      "metadata": {
        "id": "a2MqeCZibmUy",
        "colab": {
          "base_uri": "https://localhost:8080/"
        },
        "outputId": "b3ba392b-ec0a-4c24-8d48-d3276f737a91"
      },
      "source": [
        "engine.execute('USE musicconsulting')"
      ],
      "execution_count": null,
      "outputs": [
        {
          "output_type": "execute_result",
          "data": {
            "text/plain": [
              "<sqlalchemy.engine.cursor.LegacyCursorResult at 0x7f4c8be00b90>"
            ]
          },
          "metadata": {
            "tags": []
          },
          "execution_count": 6
        }
      ]
    },
    {
      "cell_type": "code",
      "metadata": {
        "id": "fvaxHAwQ7hz-"
      },
      "source": [
        "completedf['sentiment_analysis'] = pandas.to_numeric(completedf['sentiment_analysis'])\n",
        "# completedf['lyrics'] = completedf['lyrics'].encode('utf-8',errors = 'replace')"
      ],
      "execution_count": null,
      "outputs": []
    },
    {
      "cell_type": "code",
      "metadata": {
        "id": "sC4msvtX6F3T"
      },
      "source": [
        "df2014 = df2014.drop(columns='Unnamed: 0')"
      ],
      "execution_count": null,
      "outputs": []
    },
    {
      "cell_type": "code",
      "metadata": {
        "id": "FROzoA6yUd80"
      },
      "source": [
        "# df2014.to_sql(name='billboard2014', # name the table \"billboard\"\n",
        "#                    con=engine, # use the connection to MySQL created earlier\n",
        "#                    if_exists='replace', # if the table is already there, replace it\n",
        "#                    index=False # do not write the index column in the database)\n",
        "# )"
      ],
      "execution_count": null,
      "outputs": []
    },
    {
      "cell_type": "code",
      "metadata": {
        "id": "vUhQ0Hh3j0xQ"
      },
      "source": [
        "#importing data into the sql database\n",
        "\n",
        "# completedf.to_sql(name='billboard', # name the table \"billboard\"\n",
        "#                    con=engine, # use the connection to MySQL created earlier\n",
        "#                    if_exists='replace', # if the table is already there, replace it\n",
        "# )\n"
      ],
      "execution_count": null,
      "outputs": []
    },
    {
      "cell_type": "code",
      "metadata": {
        "id": "ouPmpzb9KL7g"
      },
      "source": [
        "import pandas as pd\n",
        "query = '''\n",
        "CREATE TABLE billboard\n",
        "SELECT *\n",
        "FROM\n",
        "(\n",
        "      SELECT *\n",
        "    FROM billboard2020\n",
        "    UNION ALL\n",
        "    SELECT *\n",
        "    FROM billboard2019\n",
        "    UNION ALL\n",
        "    SELECT *\n",
        "    FROM billboard2018\n",
        "    UNION ALL\n",
        "    SELECT *\n",
        "    FROM billboard2017\n",
        "    UNION ALL\n",
        "    SELECT *\n",
        "    FROM billboard2016\n",
        "    UNION ALL\n",
        "    SELECT *\n",
        "    FROM billboard2015\n",
        "    UNION ALL\n",
        "    SELECT *\n",
        "    FROM billboard2014\n",
        "    UNION ALL\n",
        "    SELECT *\n",
        "    FROM billboard2013\n",
        "    UNION ALL\n",
        "    SELECT *\n",
        "    FROM billboard2012\n",
        "    UNION ALL\n",
        "    SELECT *\n",
        "    FROM billboard2011)a\n",
        "    '''\n",
        "\n",
        "df = pd.read_sql(query, con=engine)\n"
      ],
      "execution_count": null,
      "outputs": []
    },
    {
      "cell_type": "code",
      "metadata": {
        "colab": {
          "base_uri": "https://localhost:8080/",
          "height": 419
        },
        "id": "03G6oif27KRt",
        "outputId": "109234c7-14e6-4e1e-c680-ae94065ec3ff"
      },
      "source": [
        "query = '''SELECT * FROM billboard'''\n",
        "\n",
        "billboard=pd.read_sql(query, con=engine)\n"
      ],
      "execution_count": null,
      "outputs": [
        {
          "output_type": "execute_result",
          "data": {
            "text/html": [
              "<div>\n",
              "<style scoped>\n",
              "    .dataframe tbody tr th:only-of-type {\n",
              "        vertical-align: middle;\n",
              "    }\n",
              "\n",
              "    .dataframe tbody tr th {\n",
              "        vertical-align: top;\n",
              "    }\n",
              "\n",
              "    .dataframe thead th {\n",
              "        text-align: right;\n",
              "    }\n",
              "</style>\n",
              "<table border=\"1\" class=\"dataframe\">\n",
              "  <thead>\n",
              "    <tr style=\"text-align: right;\">\n",
              "      <th></th>\n",
              "      <th>title</th>\n",
              "      <th>artist</th>\n",
              "      <th>lyrics</th>\n",
              "      <th>sentiment_analysis</th>\n",
              "    </tr>\n",
              "  </thead>\n",
              "  <tbody>\n",
              "    <tr>\n",
              "      <th>0</th>\n",
              "      <td>Blinding Lights</td>\n",
              "      <td>The Weeknd</td>\n",
              "      <td>b\"\\nYeah\\n\\n\\nI've been tryna call\\nI've been ...</td>\n",
              "      <td>-0.882600</td>\n",
              "    </tr>\n",
              "    <tr>\n",
              "      <th>1</th>\n",
              "      <td>Circles</td>\n",
              "      <td>Post Malone</td>\n",
              "      <td>b\"\\nOh, oh, oh\\nOh,\\xe2\\x80\\x8a oh, oh\\nOh,\\xe...</td>\n",
              "      <td>-0.634431</td>\n",
              "    </tr>\n",
              "    <tr>\n",
              "      <th>2</th>\n",
              "      <td>The Box</td>\n",
              "      <td>Roddy Ricch</td>\n",
              "      <td>b\"\\nPullin' out the coupe at the lot\\nTold 'em...</td>\n",
              "      <td>-0.976443</td>\n",
              "    </tr>\n",
              "    <tr>\n",
              "      <th>3</th>\n",
              "      <td>Don't Start Now</td>\n",
              "      <td>Dua Lipa</td>\n",
              "      <td>b'\\nIf you don\\'t wanna see me\\n\\n\\nDid a full...</td>\n",
              "      <td>-0.820467</td>\n",
              "    </tr>\n",
              "    <tr>\n",
              "      <th>4</th>\n",
              "      <td>Rockstar</td>\n",
              "      <td>DaBaby Featuring Roddy Ricch</td>\n",
              "      <td>b'\\nWoo, woo\\nI pull up like\\nHow you pull up,...</td>\n",
              "      <td>-0.568297</td>\n",
              "    </tr>\n",
              "    <tr>\n",
              "      <th>...</th>\n",
              "      <td>...</td>\n",
              "      <td>...</td>\n",
              "      <td>...</td>\n",
              "      <td>...</td>\n",
              "    </tr>\n",
              "    <tr>\n",
              "      <th>893</th>\n",
              "      <td>Are You Gonna Kiss Me Or Not</td>\n",
              "      <td>Thompson Square</td>\n",
              "      <td>\\nWe were sitting up there on your momma's roo...</td>\n",
              "      <td>0.422095</td>\n",
              "    </tr>\n",
              "    <tr>\n",
              "      <th>894</th>\n",
              "      <td>Animal</td>\n",
              "      <td>Neon Trees</td>\n",
              "      <td>\\nHere we go again\\nI kinda wanna be more than...</td>\n",
              "      <td>-0.825462</td>\n",
              "    </tr>\n",
              "    <tr>\n",
              "      <th>895</th>\n",
              "      <td>You And Tequila</td>\n",
              "      <td>Kenny Chesney Featuring Grace Potter</td>\n",
              "      <td>\\nBaby, here I am again\\nKicking dust in the c...</td>\n",
              "      <td>-0.899881</td>\n",
              "    </tr>\n",
              "    <tr>\n",
              "      <th>896</th>\n",
              "      <td>Colder Weather</td>\n",
              "      <td>Zac Brown Band</td>\n",
              "      <td>\\nShe'd trade Colorado if he'd take her with h...</td>\n",
              "      <td>-0.564249</td>\n",
              "    </tr>\n",
              "    <tr>\n",
              "      <th>897</th>\n",
              "      <td>My Last</td>\n",
              "      <td>Big Sean Featuring Chris Brown</td>\n",
              "      <td>\\n\\n\\nHands up in the air\\nI just want the, I ...</td>\n",
              "      <td>0.356384</td>\n",
              "    </tr>\n",
              "  </tbody>\n",
              "</table>\n",
              "<p>898 rows × 4 columns</p>\n",
              "</div>"
            ],
            "text/plain": [
              "                            title  ... sentiment_analysis\n",
              "0                 Blinding Lights  ...          -0.882600\n",
              "1                         Circles  ...          -0.634431\n",
              "2                         The Box  ...          -0.976443\n",
              "3                 Don't Start Now  ...          -0.820467\n",
              "4                        Rockstar  ...          -0.568297\n",
              "..                            ...  ...                ...\n",
              "893  Are You Gonna Kiss Me Or Not  ...           0.422095\n",
              "894                        Animal  ...          -0.825462\n",
              "895               You And Tequila  ...          -0.899881\n",
              "896                Colder Weather  ...          -0.564249\n",
              "897                       My Last  ...           0.356384\n",
              "\n",
              "[898 rows x 4 columns]"
            ]
          },
          "metadata": {
            "tags": []
          },
          "execution_count": 9
        }
      ]
    },
    {
      "cell_type": "code",
      "metadata": {
        "id": "bm4MbSBsZ0kH"
      },
      "source": [
        "#Additional column for release dates\n",
        "\n",
        "#Returns a list of spotify_ids\n",
        "TOKEN = '***'\n",
        "def get_id(song_name, artist, TOKEN): \n",
        "    url =  'https://api.spotify.com/v1/search?q=' + str(song_name) + '&type=track'\n",
        "    headers = {\n",
        "    'Accept' : 'application/json',\n",
        "    'Content-Type': 'application/json',\n",
        "    'Authorization' : \"Bearer \" + TOKEN\n",
        "    } \n",
        "    response = requests.get(url, headers = headers)\n",
        "    tracks = response.json()\n",
        "    id = tracks['tracks']['items']\n",
        "    spotify_id = []\n",
        "    for track in id: \n",
        "        name = track['name']\n",
        "        artist_name = track['artists'][0]['name']\n",
        "        if name == song_name and artist == artist_name: \n",
        "          id = track['id']\n",
        "          spotify_id += [id]\n",
        "    return spotify_id\n",
        "\n",
        "\n",
        "song_name = billboard.iloc[0].title #songname\n",
        "artist = billboard.iloc[0].artist #artists\n",
        "\n",
        "id = get_id (song_name, artist, TOKEN = TOKEN)\n",
        "id\n",
        "\n"
      ],
      "execution_count": null,
      "outputs": []
    },
    {
      "cell_type": "code",
      "metadata": {
        "colab": {
          "base_uri": "https://localhost:8080/",
          "height": 419
        },
        "id": "hLja6h66mv4u",
        "outputId": "a28683b2-d7af-4208-e524-dabe03eee9ed"
      },
      "source": [
        "import pandas as pd\n",
        "\n",
        "query1 = \"\"\"\n",
        "SELECT title, artist FROM billboard\n",
        "\"\"\"\n",
        "df = pd.read_sql(query1, con=engine)\n",
        "df"
      ],
      "execution_count": null,
      "outputs": [
        {
          "output_type": "execute_result",
          "data": {
            "text/html": [
              "<div>\n",
              "<style scoped>\n",
              "    .dataframe tbody tr th:only-of-type {\n",
              "        vertical-align: middle;\n",
              "    }\n",
              "\n",
              "    .dataframe tbody tr th {\n",
              "        vertical-align: top;\n",
              "    }\n",
              "\n",
              "    .dataframe thead th {\n",
              "        text-align: right;\n",
              "    }\n",
              "</style>\n",
              "<table border=\"1\" class=\"dataframe\">\n",
              "  <thead>\n",
              "    <tr style=\"text-align: right;\">\n",
              "      <th></th>\n",
              "      <th>title</th>\n",
              "      <th>artist</th>\n",
              "    </tr>\n",
              "  </thead>\n",
              "  <tbody>\n",
              "    <tr>\n",
              "      <th>0</th>\n",
              "      <td>Blinding Lights</td>\n",
              "      <td>The Weeknd</td>\n",
              "    </tr>\n",
              "    <tr>\n",
              "      <th>1</th>\n",
              "      <td>Circles</td>\n",
              "      <td>Post Malone</td>\n",
              "    </tr>\n",
              "    <tr>\n",
              "      <th>2</th>\n",
              "      <td>The Box</td>\n",
              "      <td>Roddy Ricch</td>\n",
              "    </tr>\n",
              "    <tr>\n",
              "      <th>3</th>\n",
              "      <td>Don't Start Now</td>\n",
              "      <td>Dua Lipa</td>\n",
              "    </tr>\n",
              "    <tr>\n",
              "      <th>4</th>\n",
              "      <td>Rockstar</td>\n",
              "      <td>DaBaby Featuring Roddy Ricch</td>\n",
              "    </tr>\n",
              "    <tr>\n",
              "      <th>...</th>\n",
              "      <td>...</td>\n",
              "      <td>...</td>\n",
              "    </tr>\n",
              "    <tr>\n",
              "      <th>893</th>\n",
              "      <td>Are You Gonna Kiss Me Or Not</td>\n",
              "      <td>Thompson Square</td>\n",
              "    </tr>\n",
              "    <tr>\n",
              "      <th>894</th>\n",
              "      <td>Animal</td>\n",
              "      <td>Neon Trees</td>\n",
              "    </tr>\n",
              "    <tr>\n",
              "      <th>895</th>\n",
              "      <td>You And Tequila</td>\n",
              "      <td>Kenny Chesney Featuring Grace Potter</td>\n",
              "    </tr>\n",
              "    <tr>\n",
              "      <th>896</th>\n",
              "      <td>Colder Weather</td>\n",
              "      <td>Zac Brown Band</td>\n",
              "    </tr>\n",
              "    <tr>\n",
              "      <th>897</th>\n",
              "      <td>My Last</td>\n",
              "      <td>Big Sean Featuring Chris Brown</td>\n",
              "    </tr>\n",
              "  </tbody>\n",
              "</table>\n",
              "<p>898 rows × 2 columns</p>\n",
              "</div>"
            ],
            "text/plain": [
              "                            title                                artist\n",
              "0                 Blinding Lights                            The Weeknd\n",
              "1                         Circles                           Post Malone\n",
              "2                         The Box                           Roddy Ricch\n",
              "3                 Don't Start Now                              Dua Lipa\n",
              "4                        Rockstar          DaBaby Featuring Roddy Ricch\n",
              "..                            ...                                   ...\n",
              "893  Are You Gonna Kiss Me Or Not                       Thompson Square\n",
              "894                        Animal                            Neon Trees\n",
              "895               You And Tequila  Kenny Chesney Featuring Grace Potter\n",
              "896                Colder Weather                        Zac Brown Band\n",
              "897                       My Last        Big Sean Featuring Chris Brown\n",
              "\n",
              "[898 rows x 2 columns]"
            ]
          },
          "metadata": {
            "tags": []
          },
          "execution_count": 47
        }
      ]
    },
    {
      "cell_type": "code",
      "metadata": {
        "id": "SZTKkYj3svkE"
      },
      "source": [
        "ids = []\n",
        "for i in range(len(df)): \n",
        "  song_name = df.iloc[i].title\n",
        "  artist = df.iloc[i].artist\n",
        "  id = get_id(song_name, artist, TOKEN = TOKEN)\n",
        "  ids += [id]\n",
        "#getting ids for each song\n",
        "ids\n",
        "\n"
      ],
      "execution_count": null,
      "outputs": []
    },
    {
      "cell_type": "code",
      "metadata": {
        "id": "msy2uRlYvwat"
      },
      "source": [
        "df2011 = pd.read_csv('spotify_id2011.csv')"
      ],
      "execution_count": null,
      "outputs": []
    },
    {
      "cell_type": "code",
      "metadata": {
        "id": "ZxHmpHie6fOw"
      },
      "source": [
        "import pandas as pd \n",
        "import ast\n",
        "import re\n",
        "from lyricsgenius import Genius #using this library\n",
        "from requests import Timeout\n",
        "from multiprocessing import Process, Pool\n",
        "\n",
        "genius = Genius('fwGCDyDv4nWf2SWH4gwUcdFHYIz9bonCZb7zP1Yx1XqresJ7l9ZUxODfU8XKTe-Y')  # initializing with token\n",
        "\n",
        "# function to get lyrics of song based on artist and title (artist and title extracted in tophits(year))\n",
        "def getLyrics(artist, title):\n",
        "    originalArtist = artist\n",
        "    #Genius seems to list the artists by the first name in the list, but billboard returns it as artist A featuring artist B, or artist A & artist B (perhaps some more combinations)\n",
        "    if (\"feat\" in artist.lower()) :\n",
        "        artist = artist[:artist.lower().find(\"feat\")]\n",
        "    if (\"&\" in artist.lower()) :\n",
        "        artist = artist[:artist.lower().find(\"&\")]\n",
        "\n",
        "    global genius\n",
        "    try :\n",
        "        song = genius.search_song(title, artist)\n",
        "    except Timeout: # there are timeout exceptions after 20-30 some requests sometimes, so refreshing the connection.\n",
        "        genius = Genius('fwGCDyDv4nWf2SWH4gwUcdFHYIz9bonCZb7zP1Yx1XqresJ7l9ZUxODfU8XKTe-Y')\n",
        "        print (\"Genius session refreshed...\")\n",
        "        song = genius.search_song(title, artist)\n",
        "        # print(\"getting lyrics..\")\n",
        "    # print(artist + \":\" + title + \": \" + song.lyrics)\n",
        "\n",
        "    if (song is None): #checking if the song is not found, returning empty string to the caller method as a sign that we didn't find anything (ideally, return None but that breaks pandas import)\n",
        "        #but still, it would be nice to see in console that lyrics were not found, for debugging\n",
        "      print(originalArtist + \"(\" + artist + \"):\" + title + \": Lyrics not found\")\n",
        "      # return \"Lyrics not found\"\n",
        "      return \"\"\n",
        "    else:\n",
        "      raw_lyrics = song.lyrics\n",
        "      p = re.compile(\"\\\\[.*\\\\]\", re.MULTILINE)\n",
        "      clean_lyrics = p.sub(\"\", raw_lyrics)\n",
        "      return clean_lyrics #if the song is found, we return the lyrics\n",
        "\n",
        "username = \"apikey\"\n",
        "password = \"***\"\n",
        "def getSentiment(username,password,text):\n",
        "    #if there were no lyrics found - there is nothing to send to this service - returning empty string right away.\n",
        "    if (text == \"\") :\n",
        "        return \"\"\n",
        "\n",
        "    endpoint = \"https://api.us-south.natural-language-understanding.watson.cloud.ibm.com/instances/6a2e1e87-7d1f-4c77-a353-a1ad953fdcf5/v1/analyze\"\n",
        "    body = {\n",
        "        'features': {'emotion': {}, 'sentiment': {}},\n",
        "        'version' : '2020-08-01',\n",
        "        'text'    : text, \n",
        "    }\n",
        "\n",
        "    resp = requests.get(endpoint, body, auth=(username, password))\n",
        "    # print (\"RESP---------\", resp)\n",
        "    #if the response is not OK - print the response code and message for debug and return empty string\n",
        "    if (resp.status_code != 200) :\n",
        "        print(\"WatsonPlatform error: \" + str(resp.status_code) + \"(\" + resp.text + \")\")\n",
        "        return \"\"\n",
        "    else: \n",
        "      data = resp.json()\n",
        "      sentiment_score = data['sentiment']['document']['score']\n",
        "      return sentiment_score\n",
        "\n",
        "def get_out_data_row(record):\n",
        "    row = record[1]\n",
        "    artists = ast.literal_eval(row['artists'])  # parsing list of artists from string\n",
        "    artist = artists[0]  # taking the first artist (main) only\n",
        "    title = row['name']\n",
        "    artists = ast.literal_eval(row['artists'])  # parsing list of artists from string\n",
        "    artist = artists[0]  # taking the first artist (main) only\n",
        "    title = row['name']\n",
        "    lyrics = getLyrics(artist, title)  # now trying to get the lyrics\n",
        "    if lyrics != \"\" and len(lyrics) < 5000:  # and if we've managed to get those - adding the whole row to the output data (ignoring the results > 5000 symbols)\n",
        "        out_row = dict()\n",
        "        try: \n",
        "            score=getSentiment(username=username, password=password, text=lyrics)\n",
        "        except:\n",
        "            out_row['sentiment_analysis'] = ''\n",
        "        else: \n",
        "            out_row['sentiment_analysis'] = score\n",
        "        out_row['artist'] = artist\n",
        "        out_row['title'] = title\n",
        "        out_row['lyrics'] = lyrics\n",
        "        out_row['danceability'] = row['danceability']\n",
        "        out_row['energy'] = row['energy']\n",
        "        out_row['loudness'] = row['loudness']\n",
        "        out_row['speechiness'] = row['speechiness']\n",
        "        out_row['acousticness'] = row['acousticness']\n",
        "        out_row['instrumentalness'] = row['instrumentalness']\n",
        "        out_row['liveness'] = row['liveness']\n",
        "        out_row['valence'] = row['valence']\n",
        "        out_row['tempo'] = row['tempo']\n",
        "        return out_row\n",
        "    else:\n",
        "        return None\n"
      ],
      "execution_count": null,
      "outputs": []
    },
    {
      "cell_type": "code",
      "metadata": {
        "id": "C-zXX4luGaa3"
      },
      "source": [
        "import pandas as pd"
      ],
      "execution_count": null,
      "outputs": []
    },
    {
      "cell_type": "code",
      "metadata": {
        "id": "eaj5-Gzduj4J"
      },
      "source": [
        "# df = pd.read_csv('/content/drive/MyDrive/spotify_1922-2020_data.csv')"
      ],
      "execution_count": null,
      "outputs": []
    },
    {
      "cell_type": "code",
      "metadata": {
        "id": "oEKIz8Qg6gq5"
      },
      "source": [
        "df['release_date'] =  pd.to_datetime(df['release_date'], format='%Y/%m/%d')"
      ],
      "execution_count": null,
      "outputs": []
    },
    {
      "cell_type": "code",
      "metadata": {
        "id": "fgMGyLRaVplu"
      },
      "source": [
        "df2010=df.loc[(df['release_date']>='2010/1/1') & (df['release_date']<='2010/12/31')]\n",
        "df2010"
      ],
      "execution_count": null,
      "outputs": []
    },
    {
      "cell_type": "code",
      "metadata": {
        "id": "sG625JUiNAEN"
      },
      "source": [
        "df2000=df.loc[(df['release_date']>='2000/1/1') & (df['release_date']<='2000/12/31')]\n",
        "df2000sample=df2000.sample(n=2000)\n",
        "\n",
        "if __name__ == '__main__':\n",
        "    pool = Pool(processes=10) # run the data gathering in 10 threads\n",
        "    output = [x for x in pool.map(get_out_data_row, df2000sample.iterrows()) if x is not None] # filtering out empty results\n",
        "\n",
        "    out_df = pd.DataFrame(output)\n",
        "    out_df.to_csv(\"spotify_2000_data_with_lyrics.csv\")\n",
        "    # !cp spotify_2000_data_with_lyrics.csv \"drive/My Drive/\""
      ],
      "execution_count": null,
      "outputs": []
    },
    {
      "cell_type": "code",
      "metadata": {
        "id": "r32JK79tM7Ry"
      },
      "source": [
        "df2001=df.loc[(df['release_date']>='2001/1/1') & (df['release_date']<='2001/12/31')]\n",
        "df2001sample=df2001.sample(n=2000)\n",
        "\n",
        "if __name__ == '__main__':\n",
        "    pool = Pool(processes=10) # run the data gathering in 10 threads\n",
        "    output = [x for x in pool.map(get_out_data_row, df2001sample.iterrows()) if x is not None] # filtering out empty results\n",
        "\n",
        "    out_df = pd.DataFrame(output)\n",
        "    out_df.to_csv(\"spotify_2001_data_with_lyrics.csv\")\n",
        "    # !cp spotify_2001_data_with_lyrics.csv \"drive/My Drive/\""
      ],
      "execution_count": null,
      "outputs": []
    },
    {
      "cell_type": "code",
      "metadata": {
        "id": "NyTK9NTLMw5o"
      },
      "source": [
        "df2002=df.loc[(df['release_date']>='2002/1/1') & (df['release_date']<='2002/12/31')]\n",
        "df2002sample=df2002.sample(n=2000)\n",
        "\n",
        "if __name__ == '__main__':\n",
        "    pool = Pool(processes=10) # run the data gathering in 10 threads\n",
        "    output = [x for x in pool.map(get_out_data_row, df2002sample.iterrows()) if x is not None] # filtering out empty results\n",
        "\n",
        "    out_df = pd.DataFrame(output)\n",
        "    out_df.to_csv(\"spotify_2002_data_with_lyrics.csv\")\n",
        "    # !cp spotify_2002_data_with_lyrics.csv \"drive/My Drive/\""
      ],
      "execution_count": null,
      "outputs": []
    },
    {
      "cell_type": "code",
      "metadata": {
        "id": "hlfVNPxxKqUZ"
      },
      "source": [
        "df2003=df.loc[(df['release_date']>='2003/1/1') & (df['release_date']<='2003/12/31')]\n",
        "df2003sample=df2003.sample(n=2000)\n",
        "\n",
        "if __name__ == '__main__':\n",
        "    pool = Pool(processes=10) # run the data gathering in 10 threads\n",
        "    output = [x for x in pool.map(get_out_data_row, df2003sample.iterrows()) if x is not None] # filtering out empty results\n",
        "\n",
        "    out_df = pd.DataFrame(output)\n",
        "    out_df.to_csv(\"spotify_2003_data_with_lyrics.csv\")\n",
        "    # !cp spotify_2003_data_with_lyrics.csv \"drive/My Drive/\""
      ],
      "execution_count": null,
      "outputs": []
    },
    {
      "cell_type": "code",
      "metadata": {
        "id": "2YwkQ7R-Itx4"
      },
      "source": [
        "df2004=df.loc[(df['release_date']>='2004/1/1') & (df['release_date']<='2004/12/31')]\n",
        "df2004sample=df2004.sample(n=2000)\n",
        "\n",
        "if __name__ == '__main__':\n",
        "    pool = Pool(processes=10) # run the data gathering in 10 threads\n",
        "    output = [x for x in pool.map(get_out_data_row, df2004sample.iterrows()) if x is not None] # filtering out empty results\n",
        "\n",
        "    out_df = pd.DataFrame(output)\n",
        "    out_df.to_csv(\"spotify_2004_data_with_lyrics.csv\")\n",
        "    # !cp spotify_2004_data_with_lyrics.csv \"drive/My Drive/\""
      ],
      "execution_count": null,
      "outputs": []
    },
    {
      "cell_type": "code",
      "metadata": {
        "id": "vImDP71QGdmo"
      },
      "source": [
        "df2005=df.loc[(df['release_date']>='2005/1/1') & (df['release_date']<='2005/12/31')]\n",
        "df2005sample=df2005.sample(n=2000)\n",
        "\n",
        "if __name__ == '__main__':\n",
        "    pool = Pool(processes=10) # run the data gathering in 10 threads\n",
        "    output = [x for x in pool.map(get_out_data_row, df2005sample.iterrows()) if x is not None] # filtering out empty results\n",
        "\n",
        "    out_df = pd.DataFrame(output)\n",
        "    out_df.to_csv(\"spotify_2005_data_with_lyrics.csv\")\n",
        "    # !cp spotify_2005_data_with_lyrics.csv \"drive/My Drive/\""
      ],
      "execution_count": null,
      "outputs": []
    },
    {
      "cell_type": "code",
      "metadata": {
        "id": "6YucN56OEI9j"
      },
      "source": [
        "df2006=df.loc[(df['release_date']>='2006/1/1') & (df['release_date']<='2006/12/31')]\n",
        "df2006sample=df2006.sample(n=2000)\n",
        "\n",
        "if __name__ == '__main__':\n",
        "    pool = Pool(processes=10) # run the data gathering in 10 threads\n",
        "    output = [x for x in pool.map(get_out_data_row, df2006sample.iterrows()) if x is not None] # filtering out empty results\n",
        "\n",
        "    out_df = pd.DataFrame(output)\n",
        "    out_df.to_csv(\"spotify_2006_data_with_lyrics.csv\")\n",
        "    # !cp spotify_2006_data_with_lyrics.csv \"drive/My Drive/\""
      ],
      "execution_count": null,
      "outputs": []
    },
    {
      "cell_type": "code",
      "metadata": {
        "id": "dfmCr_eO-6qS"
      },
      "source": [
        "df2007=df.loc[(df['release_date']>='2007/1/1') & (df['release_date']<='2007/12/31')]\n",
        "df2007sample=df2007.sample(n=2000)\n",
        "\n",
        "if __name__ == '__main__':\n",
        "    pool = Pool(processes=10) # run the data gathering in 10 threads\n",
        "    output = [x for x in pool.map(get_out_data_row, df2007sample.iterrows()) if x is not None] # filtering out empty results\n",
        "\n",
        "    out_df = pd.DataFrame(output)\n",
        "    out_df.to_csv(\"spotify_2007_data_with_lyrics.csv\")\n",
        "    # !cp spotify_2007_data_with_lyrics.csv \"drive/My Drive/\""
      ],
      "execution_count": null,
      "outputs": []
    },
    {
      "cell_type": "code",
      "metadata": {
        "id": "CPt5Z_QrJKh_"
      },
      "source": [
        "df2008=df.loc[(df['release_date']>='2008/1/1') & (df['release_date']<='2008/12/31')]\n",
        "df2008sample=df2008.sample(n=2000)\n",
        "\n",
        "if __name__ == '__main__':\n",
        "    pool = Pool(processes=10) # run the data gathering in 10 threads\n",
        "    output = [x for x in pool.map(get_out_data_row, df2008sample.iterrows()) if x is not None] # filtering out empty results\n",
        "\n",
        "    out_df = pd.DataFrame(output)\n",
        "    out_df.to_csv(\"spotify_2008_data_with_lyrics.csv\")\n",
        "    # !cp spotify_2008_data_with_lyrics.csv \"drive/My Drive/\""
      ],
      "execution_count": null,
      "outputs": []
    },
    {
      "cell_type": "code",
      "metadata": {
        "id": "igc6hGBMO7PH"
      },
      "source": [
        "df2 = pd.read_csv('/content/drive/MyDrive/spotify_2007_data_with_lyrics.csv')\n",
        "# df2[df2['sentiment_analysis'].isnull()==True]\n",
        "df2['sentiment_analysis']"
      ],
      "execution_count": null,
      "outputs": []
    },
    {
      "cell_type": "code",
      "metadata": {
        "id": "CVoX16AFGRzN"
      },
      "source": [
        "df2009=df.loc[(df['release_date']>='2009/1/1') & (df['release_date']<='2009/12/31')]\n",
        "df2009sample=df2009.sample(n=2000)\n",
        "\n",
        "if __name__ == '__main__':\n",
        "    pool = Pool(processes=10) # run the data gathering in 10 threads\n",
        "    output = [x for x in pool.map(get_out_data_row, df2009sample.iterrows()) if x is not None] # filtering out empty results\n",
        "\n",
        "    out_df = pd.DataFrame(output)\n",
        "    out_df.to_csv(\"spotify_2009_data_with_lyrics.csv\")\n",
        "    # !cp spotify_2009_data_with_lyrics.csv \"drive/My Drive/\""
      ],
      "execution_count": null,
      "outputs": []
    },
    {
      "cell_type": "code",
      "metadata": {
        "id": "RR8WRb22L2nE"
      },
      "source": [
        "df1 = pd.read_csv('/content/drive/MyDrive/spotify_2011_data_with_lyrics.csv')\n",
        "# df1[df1['sentiment_analysis'].isnull()==True]"
      ],
      "execution_count": null,
      "outputs": []
    },
    {
      "cell_type": "code",
      "metadata": {
        "id": "TOH4v1T7FqpJ"
      },
      "source": [
        "df2010=df.loc[(df['release_date']>='2010/1/1') & (df['release_date']<='2010/12/31')]\n",
        "df2010sample=df2010.sample(n=2000)\n",
        "\n",
        "if __name__ == '__main__':\n",
        "    pool = Pool(processes=10) # run the data gathering in 10 threads\n",
        "    output = [x for x in pool.map(get_out_data_row, df2010sample.iterrows()) if x is not None] # filtering out empty results\n",
        "\n",
        "    out_df = pd.DataFrame(output)\n",
        "    out_df.to_csv(\"spotify_2010_data_with_lyrics.csv\")\n",
        "    # !cp spotify_2010_data_with_lyrics.csv \"drive/My Drive/\""
      ],
      "execution_count": null,
      "outputs": []
    },
    {
      "cell_type": "code",
      "metadata": {
        "id": "MVbu-nDNFsnN"
      },
      "source": [
        "df2011=df.loc[(df['release_date']>='2011/1/1') & (df['release_date']<='2011/12/31')]\n",
        "df2011sample=df2011.sample(n=2000)\n",
        "\n",
        "if __name__ == '__main__':\n",
        "    pool = Pool(processes=10) # run the data gathering in 10 threads\n",
        "    output = [x for x in pool.map(get_out_data_row, df2011sample.iterrows()) if x is not None] # filtering out empty results\n",
        "\n",
        "    out_df = pd.DataFrame(output)\n",
        "    out_df.to_csv(\"spotify_2011_data_with_lyrics.csv\")\n",
        "    # !cp spotify_2011_data_with_lyrics.csv \"drive/My Drive/\""
      ],
      "execution_count": null,
      "outputs": []
    },
    {
      "cell_type": "code",
      "metadata": {
        "id": "D1BUL52GSt28"
      },
      "source": [
        "df2012=df.loc[(df['release_date']>='2012/1/1') & (df['release_date']<='2012/12/31')]\n",
        "df2012sample=df2012.sample(n=2000)\n",
        "\n",
        "if __name__ == '__main__':\n",
        "    pool = Pool(processes=10) # run the data gathering in 10 threads\n",
        "    output = [x for x in pool.map(get_out_data_row, df2012sample.iterrows()) if x is not None] # filtering out empty results\n",
        "\n",
        "    out_df = pd.DataFrame(output)\n",
        "    out_df.to_csv(\"spotify_2012_data_with_lyrics.csv\")\n",
        "    # !cp spotify_2012_data_with_lyrics.csv \"drive/My Drive/\""
      ],
      "execution_count": null,
      "outputs": []
    },
    {
      "cell_type": "code",
      "metadata": {
        "id": "7hIAXkO1TKMc"
      },
      "source": [
        "df2013=df.loc[(df['release_date']>='2013/1/1') & (df['release_date']<='2013/12/31')]\n",
        "df2013sample=df2013.sample(n=2000)\n",
        "\n",
        "if __name__ == '__main__':\n",
        "    pool = Pool(processes=10) # run the data gathering in 10 threads\n",
        "    output = [x for x in pool.map(get_out_data_row, df2013sample.iterrows()) if x is not None] # filtering out empty results\n",
        "\n",
        "    out_df = pd.DataFrame(output)\n",
        "    out_df.to_csv(\"spotify_2013_data_with_lyrics.csv\")\n",
        "    # !cp spotify_2013_data_with_lyrics.csv \"drive/My Drive/\""
      ],
      "execution_count": null,
      "outputs": []
    },
    {
      "cell_type": "code",
      "metadata": {
        "id": "84SzZkdmTKA3"
      },
      "source": [
        "df2014=df.loc[(df['release_date']>='2014/1/1') & (df['release_date']<='2014/12/31')]\n",
        "df2014sample=df2014.sample(n=2000)\n",
        "\n",
        "if __name__ == '__main__':\n",
        "    pool = Pool(processes=10) # run the data gathering in 10 threads\n",
        "    output = [x for x in pool.map(get_out_data_row, df2014sample.iterrows()) if x is not None] # filtering out empty results\n",
        "\n",
        "    out_df = pd.DataFrame(output)\n",
        "    out_df.to_csv(\"spotify_2014_data_with_lyrics.csv\")\n",
        "    # !cp spotify_2014_data_with_lyrics.csv \"drive/My Drive/\""
      ],
      "execution_count": null,
      "outputs": []
    },
    {
      "cell_type": "code",
      "metadata": {
        "id": "GmylgugYTSSM"
      },
      "source": [
        "df2015=df.loc[(df['release_date']>='2015/1/1') & (df['release_date']<='2015/12/31')]\n",
        "df2015sample=df2015.sample(n=2000)\n",
        "\n",
        "if __name__ == '__main__':\n",
        "    pool = Pool(processes=10) # run the data gathering in 10 threads\n",
        "    output = [x for x in pool.map(get_out_data_row, df2015sample.iterrows()) if x is not None] # filtering out empty results\n",
        "\n",
        "    out_df = pd.DataFrame(output)\n",
        "    out_df.to_csv(\"spotify_2015_data_with_lyrics.csv\")\n",
        "    # !cp spotify_2015_data_with_lyrics.csv \"drive/My Drive/\""
      ],
      "execution_count": null,
      "outputs": []
    },
    {
      "cell_type": "code",
      "metadata": {
        "id": "CSCq2BvYXy5M"
      },
      "source": [
        "df2016=df.loc[(df['release_date']>='2016/1/1') & (df['release_date']<='2016/12/31')]\n",
        "df2016sample=df2016.sample(n=2000)\n",
        "\n",
        "if __name__ == '__main__':\n",
        "    pool = Pool(processes=10) # run the data gathering in 10 threads\n",
        "    output = [x for x in pool.map(get_out_data_row, df2016sample.iterrows()) if x is not None] # filtering out empty results\n",
        "\n",
        "    out_df = pd.DataFrame(output)\n",
        "    out_df.to_csv(\"spotify_2016_data_with_lyrics.csv\")\n",
        "    # !cp spotify_2016_data_with_lyrics.csv \"drive/My Drive/\""
      ],
      "execution_count": null,
      "outputs": []
    },
    {
      "cell_type": "code",
      "metadata": {
        "id": "Q8OqRvsTTVtW"
      },
      "source": [
        "df2017=df.loc[(df['release_date']>='2017/1/1') & (df['release_date']<='2017/12/31')]\n",
        "df2017sample=df2010.sample(n=2000)\n",
        "\n",
        "if __name__ == '__main__':\n",
        "    pool = Pool(processes=10) # run the data gathering in 10 threads\n",
        "    output = [x for x in pool.map(get_out_data_row, df2017sample.iterrows()) if x is not None] # filtering out empty results\n",
        "\n",
        "    out_df = pd.DataFrame(output)\n",
        "    out_df.to_csv(\"spotify_2017_data_with_lyrics.csv\")\n",
        "    # !cp spotify_2017_data_with_lyrics.csv \"drive/My Drive/\""
      ],
      "execution_count": null,
      "outputs": []
    },
    {
      "cell_type": "code",
      "metadata": {
        "id": "spl5aGtvTmeQ"
      },
      "source": [
        "df2018=df.loc[(df['release_date']>='2018/1/1') & (df['release_date']<='2018/12/31')]\n",
        "df2018sample=df2018.sample(n=2000)\n",
        "\n",
        "if __name__ == '__main__':\n",
        "    pool = Pool(processes=10) # run the data gathering in 10 threads\n",
        "    output = [x for x in pool.map(get_out_data_row, df2018sample.iterrows()) if x is not None] # filtering out empty results\n",
        "\n",
        "    out_df = pd.DataFrame(output)\n",
        "    out_df.to_csv(\"spotify_2018_data_with_lyrics.csv\")\n",
        "    # !cp spotify_2018_data_with_lyrics.csv \"drive/My Drive/\""
      ],
      "execution_count": null,
      "outputs": []
    },
    {
      "cell_type": "code",
      "metadata": {
        "id": "3C3oFmZuTq6r"
      },
      "source": [
        "df2019=df.loc[(df['release_date']>='2019/1/1') & (df['release_date']<='2019/12/31')]\n",
        "df2019sample=df2019.sample(n=2000)\n",
        "\n",
        "if __name__ == '__main__':\n",
        "    pool = Pool(processes=10) # run the data gathering in 10 threads\n",
        "    output = [x for x in pool.map(get_out_data_row, df2019sample.iterrows()) if x is not None] # filtering out empty results\n",
        "\n",
        "    out_df = pd.DataFrame(output)\n",
        "    out_df.to_csv(\"spotify_2019_data_with_lyrics.csv\")\n",
        "    # !cp spotify_2019_data_with_lyrics.csv \"drive/My Drive/\""
      ],
      "execution_count": null,
      "outputs": []
    },
    {
      "cell_type": "code",
      "metadata": {
        "id": "WBE30zaZTu7L"
      },
      "source": [
        "df2020=df.loc[(df['release_date']>='2020/1/1') & (df['release_date']<='2020/12/31')]\n",
        "df2020sample=df2020.sample(n=2000)\n",
        "\n",
        "if __name__ == '__main__':\n",
        "    pool = Pool(processes=10) # run the data gathering in 10 threads\n",
        "    output = [x for x in pool.map(get_out_data_row, df2010sample.iterrows()) if x is not None] # filtering out empty results\n",
        "    out_df = pd.DataFrame(output)\n",
        "    out_df.to_csv(\"spotify_2020_data_with_lyrics.csv\")\n",
        "    # !cp spotify_2020_data_with_lyrics.csv \"drive/My Drive/\""
      ],
      "execution_count": null,
      "outputs": []
    },
    {
      "cell_type": "code",
      "metadata": {
        "colab": {
          "base_uri": "https://localhost:8080/"
        },
        "id": "BdjFuKxBmsHc",
        "outputId": "fb74f57f-e9af-4da7-c9bd-13f044c05c23"
      },
      "source": [
        "# from google.colab import drive\n",
        "# drive.mount('/content/drive')"
      ],
      "execution_count": null,
      "outputs": [
        {
          "output_type": "stream",
          "text": [
            "Mounted at /content/drive\n"
          ],
          "name": "stdout"
        }
      ]
    },
    {
      "cell_type": "code",
      "metadata": {
        "id": "OitvzPI_nL-n"
      },
      "source": [
        "import pandas as pd \n",
        "year='1981-2000'\n",
        "df = pd.read_csv('/content/drive/MyDrive/Project Programming/spotify_'+(year)+'_data_with_lyrics.csv')\n",
        "df"
      ],
      "execution_count": null,
      "outputs": []
    },
    {
      "cell_type": "code",
      "metadata": {
        "id": "6jcY_dEuroUz"
      },
      "source": [
        "lyrics = df1.lyrics.tolist()\n",
        "lyrics #lyrics is in list"
      ],
      "execution_count": null,
      "outputs": []
    },
    {
      "cell_type": "code",
      "metadata": {
        "id": "tjWrYC_ysoGy"
      },
      "source": [
        "username = \"apikey\"\n",
        "password = \"***\"\n",
        "def getSentiment(username,password,text):\n",
        "    #if there were no lyrics found - there is nothing to send to this service - returning empty string right away.\n",
        "    if (text == \"\") :\n",
        "        return \"\"\n",
        "\n",
        "    endpoint = \"https://api.us-south.natural-language-understanding.watson.cloud.ibm.com/instances/6a2e1e87-7d1f-4c77-a353-a1ad953fdcf5/v1/analyze\"\n",
        "    body = {\n",
        "        'features': {'emotion': {}, 'sentiment': {}},\n",
        "        'version' : '2020-08-01',\n",
        "        'text'    : text, \n",
        "    }\n",
        "\n",
        "    resp = requests.get(endpoint, body, auth=(username, password))\n",
        "    # print (\"RESP---------\", resp)\n",
        "    #if the response is not OK - print the response code and message for debug and return empty string\n",
        "    if (resp.status_code != 200) :\n",
        "        print(\"WatsonPlatform error: \" + str(resp.status_code) + \"(\" + resp.text + \")\")\n",
        "        return \"\"\n",
        "    else: \n",
        "      data = resp.json()\n",
        "      sentiment_score = data['sentiment']['document']['score']\n",
        "      return sentiment_score"
      ],
      "execution_count": null,
      "outputs": []
    },
    {
      "cell_type": "code",
      "metadata": {
        "id": "gituxtR8tl98"
      },
      "source": [
        "import requests\n",
        "scores=[]\n",
        "songs = 0\n",
        "for lyric in lyrics:\n",
        "  try: \n",
        "    score=getSentiment(username=username, password=password, text=lyric)\n",
        "  except:\n",
        "    scores+=[''] \n",
        "  else: \n",
        "    scores+=[score]\n",
        "  print(f'{score}: {lyric}')\n",
        "scores\n"
      ],
      "execution_count": null,
      "outputs": []
    },
    {
      "cell_type": "code",
      "metadata": {
        "colab": {
          "base_uri": "https://localhost:8080/",
          "height": 847
        },
        "id": "6GjKsaHv86nH",
        "outputId": "45b37f79-fad0-47de-8203-29e63369569c"
      },
      "source": [
        "df1['sentiment_analysis']=scores\n",
        "# df1"
      ],
      "execution_count": null,
      "outputs": [
        {
          "output_type": "execute_result",
          "data": {
            "text/html": [
              "<div>\n",
              "<style scoped>\n",
              "    .dataframe tbody tr th:only-of-type {\n",
              "        vertical-align: middle;\n",
              "    }\n",
              "\n",
              "    .dataframe tbody tr th {\n",
              "        vertical-align: top;\n",
              "    }\n",
              "\n",
              "    .dataframe thead th {\n",
              "        text-align: right;\n",
              "    }\n",
              "</style>\n",
              "<table border=\"1\" class=\"dataframe\">\n",
              "  <thead>\n",
              "    <tr style=\"text-align: right;\">\n",
              "      <th></th>\n",
              "      <th>Unnamed: 0</th>\n",
              "      <th>sentiment_analysis</th>\n",
              "      <th>artist</th>\n",
              "      <th>title</th>\n",
              "      <th>lyrics</th>\n",
              "      <th>danceability</th>\n",
              "      <th>energy</th>\n",
              "      <th>loudness</th>\n",
              "      <th>speechiness</th>\n",
              "      <th>acousticness</th>\n",
              "      <th>instrumentalness</th>\n",
              "      <th>liveness</th>\n",
              "      <th>valence</th>\n",
              "      <th>tempo</th>\n",
              "    </tr>\n",
              "  </thead>\n",
              "  <tbody>\n",
              "    <tr>\n",
              "      <th>0</th>\n",
              "      <td>0</td>\n",
              "      <td>0.829528</td>\n",
              "      <td>Liquid Soul</td>\n",
              "      <td>Hypnotic Energy</td>\n",
              "      <td>Listen, can you hear it?\\nThe music\\nI can her...</td>\n",
              "      <td>0.657</td>\n",
              "      <td>0.820</td>\n",
              "      <td>-6.796</td>\n",
              "      <td>0.0669</td>\n",
              "      <td>0.03220</td>\n",
              "      <td>0.911000</td>\n",
              "      <td>0.0632</td>\n",
              "      <td>0.0574</td>\n",
              "      <td>134.988</td>\n",
              "    </tr>\n",
              "    <tr>\n",
              "      <th>1</th>\n",
              "      <td>1</td>\n",
              "      <td>-0.713173</td>\n",
              "      <td>Gym Class Heroes</td>\n",
              "      <td>Ass Back Home (feat. Neon Hitch)</td>\n",
              "      <td>\\nOh, it's so sexy, yo\\n\\n\\nI don't know where...</td>\n",
              "      <td>0.716</td>\n",
              "      <td>0.838</td>\n",
              "      <td>-4.289</td>\n",
              "      <td>0.0513</td>\n",
              "      <td>0.13400</td>\n",
              "      <td>0.000000</td>\n",
              "      <td>0.1480</td>\n",
              "      <td>0.6460</td>\n",
              "      <td>130.034</td>\n",
              "    </tr>\n",
              "    <tr>\n",
              "      <th>2</th>\n",
              "      <td>2</td>\n",
              "      <td></td>\n",
              "      <td>Erin</td>\n",
              "      <td>Vanha sydän</td>\n",
              "      <td>Vanha, vanha sydämeni, älä mulle laula\\n\\nVanh...</td>\n",
              "      <td>0.469</td>\n",
              "      <td>0.456</td>\n",
              "      <td>-6.874</td>\n",
              "      <td>0.0273</td>\n",
              "      <td>0.69200</td>\n",
              "      <td>0.000000</td>\n",
              "      <td>0.1170</td>\n",
              "      <td>0.2020</td>\n",
              "      <td>137.874</td>\n",
              "    </tr>\n",
              "    <tr>\n",
              "      <th>3</th>\n",
              "      <td>3</td>\n",
              "      <td>0.787667</td>\n",
              "      <td>Benjamin Francis Leftwich</td>\n",
              "      <td>Atlas Hands</td>\n",
              "      <td>\\nTake me to the docks, there's a ship without...</td>\n",
              "      <td>0.630</td>\n",
              "      <td>0.316</td>\n",
              "      <td>-11.885</td>\n",
              "      <td>0.0293</td>\n",
              "      <td>0.89800</td>\n",
              "      <td>0.002170</td>\n",
              "      <td>0.0616</td>\n",
              "      <td>0.4770</td>\n",
              "      <td>82.529</td>\n",
              "    </tr>\n",
              "    <tr>\n",
              "      <th>4</th>\n",
              "      <td>4</td>\n",
              "      <td>0.974078</td>\n",
              "      <td>Cassius</td>\n",
              "      <td>I &lt;3 U SO</td>\n",
              "      <td>Oooh I love you so\\nBut why I loved you\\nI'll ...</td>\n",
              "      <td>0.126</td>\n",
              "      <td>0.798</td>\n",
              "      <td>-5.620</td>\n",
              "      <td>0.0424</td>\n",
              "      <td>0.00793</td>\n",
              "      <td>0.237000</td>\n",
              "      <td>0.2210</td>\n",
              "      <td>0.1360</td>\n",
              "      <td>188.718</td>\n",
              "    </tr>\n",
              "    <tr>\n",
              "      <th>...</th>\n",
              "      <td>...</td>\n",
              "      <td>...</td>\n",
              "      <td>...</td>\n",
              "      <td>...</td>\n",
              "      <td>...</td>\n",
              "      <td>...</td>\n",
              "      <td>...</td>\n",
              "      <td>...</td>\n",
              "      <td>...</td>\n",
              "      <td>...</td>\n",
              "      <td>...</td>\n",
              "      <td>...</td>\n",
              "      <td>...</td>\n",
              "      <td>...</td>\n",
              "    </tr>\n",
              "    <tr>\n",
              "      <th>1202</th>\n",
              "      <td>1202</td>\n",
              "      <td>-0.563769</td>\n",
              "      <td>Havasi</td>\n",
              "      <td>The Storm</td>\n",
              "      <td>\\nSpring break at Lake Havasu\\nShe matriculate...</td>\n",
              "      <td>0.350</td>\n",
              "      <td>0.654</td>\n",
              "      <td>-11.562</td>\n",
              "      <td>0.0350</td>\n",
              "      <td>0.39600</td>\n",
              "      <td>0.942000</td>\n",
              "      <td>0.1090</td>\n",
              "      <td>0.1230</td>\n",
              "      <td>107.749</td>\n",
              "    </tr>\n",
              "    <tr>\n",
              "      <th>1203</th>\n",
              "      <td>1203</td>\n",
              "      <td>0.997011</td>\n",
              "      <td>Scorpions</td>\n",
              "      <td>Still Loving You</td>\n",
              "      <td>\\nTime, it needs time\\nTo win back your love a...</td>\n",
              "      <td>0.282</td>\n",
              "      <td>0.605</td>\n",
              "      <td>-4.916</td>\n",
              "      <td>0.0294</td>\n",
              "      <td>0.00470</td>\n",
              "      <td>0.001440</td>\n",
              "      <td>0.1030</td>\n",
              "      <td>0.0783</td>\n",
              "      <td>103.929</td>\n",
              "    </tr>\n",
              "    <tr>\n",
              "      <th>1204</th>\n",
              "      <td>1204</td>\n",
              "      <td>-0.574395</td>\n",
              "      <td>ConeCrewDiretoria</td>\n",
              "      <td>Chama os Mulekes</td>\n",
              "      <td>\\nChama os muleke, eu tô chamado, convocado, e...</td>\n",
              "      <td>0.589</td>\n",
              "      <td>0.803</td>\n",
              "      <td>-4.460</td>\n",
              "      <td>0.3370</td>\n",
              "      <td>0.35700</td>\n",
              "      <td>0.000000</td>\n",
              "      <td>0.1270</td>\n",
              "      <td>0.5230</td>\n",
              "      <td>88.105</td>\n",
              "    </tr>\n",
              "    <tr>\n",
              "      <th>1205</th>\n",
              "      <td>1205</td>\n",
              "      <td>-0.62169</td>\n",
              "      <td>Toby Keith</td>\n",
              "      <td>Made in America</td>\n",
              "      <td>\\nMy old man's that old man\\nSpent his life li...</td>\n",
              "      <td>0.497</td>\n",
              "      <td>0.701</td>\n",
              "      <td>-5.996</td>\n",
              "      <td>0.0306</td>\n",
              "      <td>0.05070</td>\n",
              "      <td>0.000000</td>\n",
              "      <td>0.1030</td>\n",
              "      <td>0.3760</td>\n",
              "      <td>172.126</td>\n",
              "    </tr>\n",
              "    <tr>\n",
              "      <th>1206</th>\n",
              "      <td>1206</td>\n",
              "      <td>-0.702155</td>\n",
              "      <td>I Cani</td>\n",
              "      <td>Le Coppie</td>\n",
              "      <td>\\n\\n\\nLe coppie si fanno i regali\\nFesteggiano...</td>\n",
              "      <td>0.716</td>\n",
              "      <td>0.937</td>\n",
              "      <td>-4.450</td>\n",
              "      <td>0.0427</td>\n",
              "      <td>0.08430</td>\n",
              "      <td>0.000004</td>\n",
              "      <td>0.1950</td>\n",
              "      <td>0.9410</td>\n",
              "      <td>110.278</td>\n",
              "    </tr>\n",
              "  </tbody>\n",
              "</table>\n",
              "<p>1207 rows × 14 columns</p>\n",
              "</div>"
            ],
            "text/plain": [
              "      Unnamed: 0 sentiment_analysis  ... valence    tempo\n",
              "0              0           0.829528  ...  0.0574  134.988\n",
              "1              1          -0.713173  ...  0.6460  130.034\n",
              "2              2                     ...  0.2020  137.874\n",
              "3              3           0.787667  ...  0.4770   82.529\n",
              "4              4           0.974078  ...  0.1360  188.718\n",
              "...          ...                ...  ...     ...      ...\n",
              "1202        1202          -0.563769  ...  0.1230  107.749\n",
              "1203        1203           0.997011  ...  0.0783  103.929\n",
              "1204        1204          -0.574395  ...  0.5230   88.105\n",
              "1205        1205           -0.62169  ...  0.3760  172.126\n",
              "1206        1206          -0.702155  ...  0.9410  110.278\n",
              "\n",
              "[1207 rows x 14 columns]"
            ]
          },
          "metadata": {
            "tags": []
          },
          "execution_count": 10
        }
      ]
    },
    {
      "cell_type": "code",
      "metadata": {
        "colab": {
          "base_uri": "https://localhost:8080/",
          "height": 830
        },
        "id": "Q83Wj-AZ1wlS",
        "outputId": "7778a92f-3cb9-4d17-a803-33d43632d0fb"
      },
      "source": [
        "df1 = df1.drop(['Unnamed: 0'], axis=1)\n",
        "df1"
      ],
      "execution_count": null,
      "outputs": [
        {
          "output_type": "execute_result",
          "data": {
            "text/html": [
              "<div>\n",
              "<style scoped>\n",
              "    .dataframe tbody tr th:only-of-type {\n",
              "        vertical-align: middle;\n",
              "    }\n",
              "\n",
              "    .dataframe tbody tr th {\n",
              "        vertical-align: top;\n",
              "    }\n",
              "\n",
              "    .dataframe thead th {\n",
              "        text-align: right;\n",
              "    }\n",
              "</style>\n",
              "<table border=\"1\" class=\"dataframe\">\n",
              "  <thead>\n",
              "    <tr style=\"text-align: right;\">\n",
              "      <th></th>\n",
              "      <th>sentiment_analysis</th>\n",
              "      <th>artist</th>\n",
              "      <th>title</th>\n",
              "      <th>lyrics</th>\n",
              "      <th>danceability</th>\n",
              "      <th>energy</th>\n",
              "      <th>loudness</th>\n",
              "      <th>speechiness</th>\n",
              "      <th>acousticness</th>\n",
              "      <th>instrumentalness</th>\n",
              "      <th>liveness</th>\n",
              "      <th>valence</th>\n",
              "      <th>tempo</th>\n",
              "    </tr>\n",
              "  </thead>\n",
              "  <tbody>\n",
              "    <tr>\n",
              "      <th>0</th>\n",
              "      <td>0.829528</td>\n",
              "      <td>Liquid Soul</td>\n",
              "      <td>Hypnotic Energy</td>\n",
              "      <td>Listen, can you hear it?\\nThe music\\nI can her...</td>\n",
              "      <td>0.657</td>\n",
              "      <td>0.820</td>\n",
              "      <td>-6.796</td>\n",
              "      <td>0.0669</td>\n",
              "      <td>0.03220</td>\n",
              "      <td>0.911000</td>\n",
              "      <td>0.0632</td>\n",
              "      <td>0.0574</td>\n",
              "      <td>134.988</td>\n",
              "    </tr>\n",
              "    <tr>\n",
              "      <th>1</th>\n",
              "      <td>-0.713173</td>\n",
              "      <td>Gym Class Heroes</td>\n",
              "      <td>Ass Back Home (feat. Neon Hitch)</td>\n",
              "      <td>\\nOh, it's so sexy, yo\\n\\n\\nI don't know where...</td>\n",
              "      <td>0.716</td>\n",
              "      <td>0.838</td>\n",
              "      <td>-4.289</td>\n",
              "      <td>0.0513</td>\n",
              "      <td>0.13400</td>\n",
              "      <td>0.000000</td>\n",
              "      <td>0.1480</td>\n",
              "      <td>0.6460</td>\n",
              "      <td>130.034</td>\n",
              "    </tr>\n",
              "    <tr>\n",
              "      <th>2</th>\n",
              "      <td></td>\n",
              "      <td>Erin</td>\n",
              "      <td>Vanha sydän</td>\n",
              "      <td>Vanha, vanha sydämeni, älä mulle laula\\n\\nVanh...</td>\n",
              "      <td>0.469</td>\n",
              "      <td>0.456</td>\n",
              "      <td>-6.874</td>\n",
              "      <td>0.0273</td>\n",
              "      <td>0.69200</td>\n",
              "      <td>0.000000</td>\n",
              "      <td>0.1170</td>\n",
              "      <td>0.2020</td>\n",
              "      <td>137.874</td>\n",
              "    </tr>\n",
              "    <tr>\n",
              "      <th>3</th>\n",
              "      <td>0.787667</td>\n",
              "      <td>Benjamin Francis Leftwich</td>\n",
              "      <td>Atlas Hands</td>\n",
              "      <td>\\nTake me to the docks, there's a ship without...</td>\n",
              "      <td>0.630</td>\n",
              "      <td>0.316</td>\n",
              "      <td>-11.885</td>\n",
              "      <td>0.0293</td>\n",
              "      <td>0.89800</td>\n",
              "      <td>0.002170</td>\n",
              "      <td>0.0616</td>\n",
              "      <td>0.4770</td>\n",
              "      <td>82.529</td>\n",
              "    </tr>\n",
              "    <tr>\n",
              "      <th>4</th>\n",
              "      <td>0.974078</td>\n",
              "      <td>Cassius</td>\n",
              "      <td>I &lt;3 U SO</td>\n",
              "      <td>Oooh I love you so\\nBut why I loved you\\nI'll ...</td>\n",
              "      <td>0.126</td>\n",
              "      <td>0.798</td>\n",
              "      <td>-5.620</td>\n",
              "      <td>0.0424</td>\n",
              "      <td>0.00793</td>\n",
              "      <td>0.237000</td>\n",
              "      <td>0.2210</td>\n",
              "      <td>0.1360</td>\n",
              "      <td>188.718</td>\n",
              "    </tr>\n",
              "    <tr>\n",
              "      <th>...</th>\n",
              "      <td>...</td>\n",
              "      <td>...</td>\n",
              "      <td>...</td>\n",
              "      <td>...</td>\n",
              "      <td>...</td>\n",
              "      <td>...</td>\n",
              "      <td>...</td>\n",
              "      <td>...</td>\n",
              "      <td>...</td>\n",
              "      <td>...</td>\n",
              "      <td>...</td>\n",
              "      <td>...</td>\n",
              "      <td>...</td>\n",
              "    </tr>\n",
              "    <tr>\n",
              "      <th>1202</th>\n",
              "      <td>-0.563769</td>\n",
              "      <td>Havasi</td>\n",
              "      <td>The Storm</td>\n",
              "      <td>\\nSpring break at Lake Havasu\\nShe matriculate...</td>\n",
              "      <td>0.350</td>\n",
              "      <td>0.654</td>\n",
              "      <td>-11.562</td>\n",
              "      <td>0.0350</td>\n",
              "      <td>0.39600</td>\n",
              "      <td>0.942000</td>\n",
              "      <td>0.1090</td>\n",
              "      <td>0.1230</td>\n",
              "      <td>107.749</td>\n",
              "    </tr>\n",
              "    <tr>\n",
              "      <th>1203</th>\n",
              "      <td>0.997011</td>\n",
              "      <td>Scorpions</td>\n",
              "      <td>Still Loving You</td>\n",
              "      <td>\\nTime, it needs time\\nTo win back your love a...</td>\n",
              "      <td>0.282</td>\n",
              "      <td>0.605</td>\n",
              "      <td>-4.916</td>\n",
              "      <td>0.0294</td>\n",
              "      <td>0.00470</td>\n",
              "      <td>0.001440</td>\n",
              "      <td>0.1030</td>\n",
              "      <td>0.0783</td>\n",
              "      <td>103.929</td>\n",
              "    </tr>\n",
              "    <tr>\n",
              "      <th>1204</th>\n",
              "      <td>-0.574395</td>\n",
              "      <td>ConeCrewDiretoria</td>\n",
              "      <td>Chama os Mulekes</td>\n",
              "      <td>\\nChama os muleke, eu tô chamado, convocado, e...</td>\n",
              "      <td>0.589</td>\n",
              "      <td>0.803</td>\n",
              "      <td>-4.460</td>\n",
              "      <td>0.3370</td>\n",
              "      <td>0.35700</td>\n",
              "      <td>0.000000</td>\n",
              "      <td>0.1270</td>\n",
              "      <td>0.5230</td>\n",
              "      <td>88.105</td>\n",
              "    </tr>\n",
              "    <tr>\n",
              "      <th>1205</th>\n",
              "      <td>-0.62169</td>\n",
              "      <td>Toby Keith</td>\n",
              "      <td>Made in America</td>\n",
              "      <td>\\nMy old man's that old man\\nSpent his life li...</td>\n",
              "      <td>0.497</td>\n",
              "      <td>0.701</td>\n",
              "      <td>-5.996</td>\n",
              "      <td>0.0306</td>\n",
              "      <td>0.05070</td>\n",
              "      <td>0.000000</td>\n",
              "      <td>0.1030</td>\n",
              "      <td>0.3760</td>\n",
              "      <td>172.126</td>\n",
              "    </tr>\n",
              "    <tr>\n",
              "      <th>1206</th>\n",
              "      <td>-0.702155</td>\n",
              "      <td>I Cani</td>\n",
              "      <td>Le Coppie</td>\n",
              "      <td>\\n\\n\\nLe coppie si fanno i regali\\nFesteggiano...</td>\n",
              "      <td>0.716</td>\n",
              "      <td>0.937</td>\n",
              "      <td>-4.450</td>\n",
              "      <td>0.0427</td>\n",
              "      <td>0.08430</td>\n",
              "      <td>0.000004</td>\n",
              "      <td>0.1950</td>\n",
              "      <td>0.9410</td>\n",
              "      <td>110.278</td>\n",
              "    </tr>\n",
              "  </tbody>\n",
              "</table>\n",
              "<p>1207 rows × 13 columns</p>\n",
              "</div>"
            ],
            "text/plain": [
              "     sentiment_analysis                     artist  ... valence    tempo\n",
              "0              0.829528                Liquid Soul  ...  0.0574  134.988\n",
              "1             -0.713173           Gym Class Heroes  ...  0.6460  130.034\n",
              "2                                             Erin  ...  0.2020  137.874\n",
              "3              0.787667  Benjamin Francis Leftwich  ...  0.4770   82.529\n",
              "4              0.974078                    Cassius  ...  0.1360  188.718\n",
              "...                 ...                        ...  ...     ...      ...\n",
              "1202          -0.563769                     Havasi  ...  0.1230  107.749\n",
              "1203           0.997011                  Scorpions  ...  0.0783  103.929\n",
              "1204          -0.574395          ConeCrewDiretoria  ...  0.5230   88.105\n",
              "1205           -0.62169                 Toby Keith  ...  0.3760  172.126\n",
              "1206          -0.702155                     I Cani  ...  0.9410  110.278\n",
              "\n",
              "[1207 rows x 13 columns]"
            ]
          },
          "metadata": {
            "tags": []
          },
          "execution_count": 11
        }
      ]
    },
    {
      "cell_type": "code",
      "metadata": {
        "id": "qRCdCGc-DtAd"
      },
      "source": [
        "df1.to_csv(\"spotify_2011_data_with_lyrics.csv\")\n",
        "# !cp spotify_2011_data_with_lyrics.csv \"drive/My Drive/\""
      ],
      "execution_count": null,
      "outputs": []
    },
    {
      "cell_type": "code",
      "metadata": {
        "id": "snaJK4rRBwd2"
      },
      "source": [
        "df.to_csv('spotify_'+(year)+'_data_with_lyrics.csv')"
      ],
      "execution_count": null,
      "outputs": []
    }
  ]
}