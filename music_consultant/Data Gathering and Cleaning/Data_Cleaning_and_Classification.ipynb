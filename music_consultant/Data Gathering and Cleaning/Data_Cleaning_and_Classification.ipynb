{
  "nbformat": 4,
  "nbformat_minor": 0,
  "metadata": {
    "colab": {
      "name": "Data Cleaning and Classification",
      "provenance": [],
      "collapsed_sections": []
    },
    "kernelspec": {
      "display_name": "Python 3",
      "name": "python3"
    },
    "language_info": {
      "name": "python"
    }
  },
  "cells": [
    {
      "cell_type": "code",
      "metadata": {
        "id": "GTcsNUeWNm0V"
      },
      "source": [
        "import pandas as pd"
      ],
      "execution_count": null,
      "outputs": []
    },
    {
      "cell_type": "code",
      "metadata": {
        "id": "Ok8Dmm8adHez"
      },
      "source": [
        "import pandas as pd\n",
        "import os\n",
        "from google.colab import drive\n",
        "drive.mount('/content/drive')"
      ],
      "execution_count": null,
      "outputs": []
    },
    {
      "cell_type": "code",
      "metadata": {
        "id": "S3h4Fn23N4k5"
      },
      "source": [
        "df1 = pd.read_csv('/content/drive/MyDrive/Project Programming/archive/data_by_genres_o.csv')"
      ],
      "execution_count": null,
      "outputs": []
    },
    {
      "cell_type": "code",
      "metadata": {
        "id": "6x7hIV8T7BV0"
      },
      "source": [
        "for genre in df1.genres.tolist(): \n",
        "  print (genre)"
      ],
      "execution_count": null,
      "outputs": []
    },
    {
      "cell_type": "code",
      "metadata": {
        "id": "WPkXL6hHknSK"
      },
      "source": [
        "#code from https://www.kaggle.com/capricode2512/music-trends-1921-2020-eda/notebook\n",
        "\n",
        "pattern_classical='orchestra[\\s\\S]*|\\b?[\\s\\S]*classical[\\s\\S]*\\b?|[\\s\\S]*piano[\\s\\S]+|opera'\n",
        "pattern_movies=r'\\bbroadway[\\s\\S]*|\\b[\\s\\S]*movie[\\s\\S]+|\\b[\\s\\S]*show[\\s\\S]+|\\b[\\s\\S]*hollywood'\n",
        "pattern_kpop=r'[\\s\\S]+k[-]?pop[\\s\\S]+'\n",
        "pattern_rock=r'[\\s\\S]+ rock[\\s\\S]*|[\\s\\S]+metal[\\s\\S]*|[\\s\\S]+punk[\\s\\S]*'\n",
        "pattern_pop=r'[\\s\\S]+pop[\\s\\S]*'\n",
        "pattern_rap=r'[\\s\\S]* rap[\\s\\S]*'\n",
        "pattern_jazz=r'[\\s\\S]*jazz[\\s\\S]*|bossa nova'\n",
        "pattern_reggae=r'\\b[\\s\\S]*reggae[\\s\\S]*'\n",
        "pattern_r=r'[\\s\\S]*christian[\\s\\S]*|[\\s\\S]*gospel[\\s\\S]*'\n",
        "pattern_folk=r\"[\\s\\S]*folk[\\s\\S]*|\\brebetiko|hawaiian, jawaiian|ukulele|duranguense|grupera|ranchera|[\\s\\S]*regional mexican|norteno|latin\"\n",
        "pattern_country=r'[\\s\\S]*country[\\s\\S]*|\\btejano\\b'\n",
        "pattern_rnb=r'[\\s\\S]*blues[\\s\\S]*|[\\s\\S]*r&b[\\s\\S]*'\n",
        "pattern_funk=r'[\\s\\S]*funk[\\s\\S]*|[\\s\\S]*disco[\\s\\S]*|[\\s\\S]*hip hop[\\s\\S]*'\n",
        "pattern_edm=r'electronica|[\\s\\S]*edm[\\s\\S]*|electro house|electronic trap'\n",
        "\n",
        "df1[\"genres_main\"]=df1[\"genres\"].str.replace(pattern_classical,\"classical\")\n",
        "df1[\"genres_main\"]=df1[\"genres_main\"].str.replace(pattern_movies,\"movies_and_broadway\")\n",
        "df1[\"genres_main\"]=df1[\"genres_main\"].str.replace(pattern_r,\"religiuos\")\n",
        "df1[\"genres_main\"]=df1[\"genres_main\"].str.replace(pattern_kpop,\"kPop\")\n",
        "df1[\"genres_main\"]=df1[\"genres_main\"].str.replace(pattern_reggae,\"reggaeton\")\n",
        "df1[\"genres_main\"]=df1[\"genres_main\"].str.replace(pattern_rap,\"rap\")\n",
        "df1[\"genres_main\"]=df1[\"genres_main\"].str.replace(pattern_rock,\"rock\")\n",
        "df1[\"genres_main\"]=df1[\"genres_main\"].str.replace(pattern_pop,\"pop\")\n",
        "df1[\"genres_main\"]=df1[\"genres_main\"].str.replace(pattern_jazz,\"jazz\")\n",
        "df1[\"genres_main\"]=df1[\"genres_main\"].str.replace(pattern_country,\"country music\")\n",
        "df1[\"genres_main\"]=df1[\"genres_main\"].str.replace(pattern_folk,\"folk\")\n",
        "df1[\"genres_main\"]=df1[\"genres_main\"].str.replace(pattern_rnb,\"rhythm_and_blues\")\n",
        "df1[\"genres_main\"]=df1[\"genres_main\"].str.replace(pattern_funk,\"funk\")\n",
        "df1[\"genres_main\"]=df1[\"genres_main\"].str.replace(pattern_edm,\"edm\")\n",
        "\n",
        "df1"
      ],
      "execution_count": null,
      "outputs": []
    },
    {
      "cell_type": "code",
      "metadata": {
        "id": "-ldvjMe2lKAo"
      },
      "source": [
        "df1.loc[df1[\"genres_main\"]==\"classical\"]"
      ],
      "execution_count": null,
      "outputs": []
    },
    {
      "cell_type": "code",
      "metadata": {
        "id": "OH1L01-9n2QZ"
      },
      "source": [
        "# pd.set_option(\"display.min_rows\",None)\n",
        "df1[\"genres_main\"].value_counts()"
      ],
      "execution_count": null,
      "outputs": []
    },
    {
      "cell_type": "code",
      "metadata": {
        "id": "P03AaxeAoicx"
      },
      "source": [
        "df1.groupby([\"genres_main\"]).mean()"
      ],
      "execution_count": null,
      "outputs": []
    },
    {
      "cell_type": "code",
      "metadata": {
        "id": "961mfIWnqhQq"
      },
      "source": [
        "genres_main_list = [\"classical\",\"movies_and_broadway\",\"religious\",\"kPop\",\"reggaeton\",\"rap\",\"rock\",\"pop\",\"jazz\",\"country music\",\"folk\",\"rhythm_and_blues\",\"funk\",\"edm\"]\n",
        "\n",
        "drop_list = [] \n",
        "\n",
        "for index, row in df1.iterrows():\n",
        "  if row[\"genres_main\"] not in genres_main_list:\n",
        "    drop_list.append(index)\n",
        "\n",
        "df2 = df1.drop(drop_list)\n",
        "df2"
      ],
      "execution_count": null,
      "outputs": []
    },
    {
      "cell_type": "code",
      "metadata": {
        "id": "xwgvYziPOX1o"
      },
      "source": [
        "#edm,country,rap\n",
        "\n",
        "df_edit=df_edit[df_edit['genres_main']!='country_music']\n",
        "df_edit"
      ],
      "execution_count": null,
      "outputs": []
    },
    {
      "cell_type": "code",
      "metadata": {
        "id": "WzBILhd7S45k"
      },
      "source": [
        "df_edit.to_csv('edits.csv')"
      ],
      "execution_count": null,
      "outputs": []
    },
    {
      "cell_type": "code",
      "metadata": {
        "id": "ZiKEUEW5IFhR"
      },
      "source": [
        "pivot2 =pd.pivot_table (data = df2, index = 'genres_main', values = 'genres', aggfunc = 'count')\n",
        "pivot2"
      ],
      "execution_count": null,
      "outputs": []
    },
    {
      "cell_type": "code",
      "metadata": {
        "id": "HeQ9eBM7Ihhy"
      },
      "source": [
        "df2.to_csv('df2_organized.csv')"
      ],
      "execution_count": null,
      "outputs": []
    },
    {
      "cell_type": "code",
      "metadata": {
        "id": "fldqwfPQzG0u"
      },
      "source": [
        "df_average = df2.groupby([\"genres_main\"]).mean()\n",
        "df_average"
      ],
      "execution_count": null,
      "outputs": []
    },
    {
      "cell_type": "code",
      "metadata": {
        "id": "BDwJLvpg1fpc"
      },
      "source": [
        "genres_main=['classical', 'country music', 'edm', 'folk', 'funk', 'jazz', 'movies_and_broadway', 'pop', 'rap', 'reggaeton', 'rhythm_and_blues','rock']\n",
        "df_average['genres_main']=genres_main"
      ],
      "execution_count": null,
      "outputs": []
    },
    {
      "cell_type": "code",
      "metadata": {
        "id": "np9mteu812nZ"
      },
      "source": [
        "df_average"
      ],
      "execution_count": null,
      "outputs": []
    },
    {
      "cell_type": "code",
      "metadata": {
        "id": "BDhjAENRh0Im"
      },
      "source": [
        "df20 = pd.read_csv('/content/drive/MyDrive/Project Programming/archive/data_final_releasdate_sentiment.csv')\n",
        "df20"
      ],
      "execution_count": null,
      "outputs": []
    },
    {
      "cell_type": "code",
      "metadata": {
        "id": "nsJeFG3E8TBy"
      },
      "source": [
        "df20.hist()"
      ],
      "execution_count": null,
      "outputs": []
    },
    {
      "cell_type": "code",
      "metadata": {
        "id": "_gTO7cnj1RG3"
      },
      "source": [
        "df_average.columns"
      ],
      "execution_count": null,
      "outputs": []
    },
    {
      "cell_type": "code",
      "metadata": {
        "id": "-U0ePnUhiP8-"
      },
      "source": [
        "columns1=['danceability','acousticness','energy','instrumentalness','liveness','loudness','speechiness','tempo']\n",
        "X=df1[columns1]\n",
        "y=df1.genres_main\n",
        "X,y"
      ],
      "execution_count": null,
      "outputs": []
    },
    {
      "cell_type": "code",
      "metadata": {
        "id": "96Se1Gz3jJ9u"
      },
      "source": [
        "from sklearn.svm import SVC"
      ],
      "execution_count": null,
      "outputs": []
    },
    {
      "cell_type": "code",
      "metadata": {
        "id": "W2s80h1wjZVv"
      },
      "source": [
        "clf=SVC()\n",
        "clf.fit(X,y)"
      ],
      "execution_count": null,
      "outputs": []
    },
    {
      "cell_type": "code",
      "metadata": {
        "id": "aj5Wa-wYk0ab"
      },
      "source": [
        "genre1=clf.predict(df20[columns1])\n",
        "genre1"
      ],
      "execution_count": null,
      "outputs": []
    },
    {
      "cell_type": "code",
      "metadata": {
        "id": "t4otSoYkCgRR"
      },
      "source": [
        "df600=pd.read_csv('/content/drive/MyDrive/Project Programming/archive/tracks.csv')\n",
        "df600"
      ],
      "execution_count": null,
      "outputs": []
    },
    {
      "cell_type": "code",
      "metadata": {
        "id": "1BVfHkSf4cU2"
      },
      "source": [
        "# # Install the SQLAlchemy library if it is not installed\n",
        "# !sudo apt-get install python3-dev libmysqlclient-dev > /dev/null\n",
        "# !pip install mysqlclient > /dev/null\n",
        "# !sudo pip3 install -U sql_magic > /dev/null\n",
        "# !pip install psycopg2-binary > /dev/null"
      ],
      "execution_count": null,
      "outputs": []
    },
    {
      "cell_type": "code",
      "metadata": {
        "id": "xDdP00Jk4aqn"
      },
      "source": [
        "# from sqlalchemy import create_engine"
      ],
      "execution_count": null,
      "outputs": []
    },
    {
      "cell_type": "code",
      "metadata": {
        "id": "aWayom7r4Y1P"
      },
      "source": [
        "# conn_string = 'mysql://{user}:{password}@{host}:{port}/{db}?charset=utf8'.format(\n",
        "#     user='escAPIng_from_new_york',\n",
        "#     password='***',\n",
        "#     host = '***', \n",
        "#     port=3306, \n",
        "#     db='musicconsulting',\n",
        "#     encoding = 'utf8mb4'\n",
        "# )\n",
        "# engine = create_engine(conn_string)\n",
        "# engine "
      ],
      "execution_count": null,
      "outputs": []
    },
    {
      "cell_type": "code",
      "metadata": {
        "id": "GXiiMjx94XDq"
      },
      "source": [
        "# %reload_ext sql_magic\n",
        "# %config SQL.conn_name = 'engine'"
      ],
      "execution_count": null,
      "outputs": []
    },
    {
      "cell_type": "code",
      "metadata": {
        "id": "NPQBvM1m3xkF"
      },
      "source": [
        "# %%read_sql\n",
        "# show tables;"
      ],
      "execution_count": null,
      "outputs": []
    },
    {
      "cell_type": "code",
      "metadata": {
        "id": "eDkzrrQ03tRa"
      },
      "source": [
        "# engine.execute('USE musicconsulting')"
      ],
      "execution_count": null,
      "outputs": []
    },
    {
      "cell_type": "code",
      "metadata": {
        "id": "h_-jhxLo7zQ4"
      },
      "source": [
        "df20=df20.drop(columns=[\"lyrics\"])"
      ],
      "execution_count": null,
      "outputs": []
    },
    {
      "cell_type": "code",
      "metadata": {
        "id": "1TWvUDJy3ebZ"
      },
      "source": [
        "# # # save df1 and df2 to sql\n",
        "# df20.to_sql(name='df20_for_classification', # name the table finaldf\n",
        "#                    con=engine, # use the connection to MySQL created earlier\n",
        "#                    if_exists='replace', # if the table is already there, replace it\n",
        "#                    index=False # do not write the index column in the database)\n",
        "# )"
      ],
      "execution_count": null,
      "outputs": []
    },
    {
      "cell_type": "code",
      "metadata": {
        "id": "7aG-R9CH3LtZ"
      },
      "source": [
        "df20[columns1]"
      ],
      "execution_count": null,
      "outputs": []
    },
    {
      "cell_type": "code",
      "metadata": {
        "id": "9w9mVTK-xJ1Q"
      },
      "source": [
        "user_input = [[0.677,\t0.419,\t-8.478,\t0.0526,\t0.61600,\t0.000000,\t0.1350,\t100]]\n",
        "genre_user=clf.predict(user_input)\n",
        "genre_user\n",
        "#userinput = array of columns\n",
        "## columns1=['danceability','acousticness','energy','instrumentalness','liveness','loudness','speechiness','valence']\n",
        "#has to be in that order\n",
        "#output genre"
      ],
      "execution_count": null,
      "outputs": []
    },
    {
      "cell_type": "code",
      "metadata": {
        "id": "LerGr5cTxj2K"
      },
      "source": [
        "df20['genres']=genre1\n",
        "df20"
      ],
      "execution_count": null,
      "outputs": []
    },
    {
      "cell_type": "code",
      "metadata": {
        "id": "FvVygQnQx4ka"
      },
      "source": [
        "pivot = pd.pivot_table (data = df20, index = 'genres', values = 'title', aggfunc = 'count')\n",
        "pivot"
      ],
      "execution_count": null,
      "outputs": []
    },
    {
      "cell_type": "code",
      "metadata": {
        "id": "YHAcTeFWy-OX"
      },
      "source": [
        "df600=pd.read_csv('/content/drive/MyDrive/Project Programming/archive/tracks.csv')\n",
        "df600"
      ],
      "execution_count": null,
      "outputs": []
    },
    {
      "cell_type": "code",
      "metadata": {
        "id": "kYm2TEeiLZbL"
      },
      "source": [
        "genre600=clf.predict(df600[columns])\n",
        "genre600"
      ],
      "execution_count": null,
      "outputs": []
    },
    {
      "cell_type": "code",
      "metadata": {
        "id": "brob9oheLxo0"
      },
      "source": [
        "df600['genres']=genre600\n",
        "df600"
      ],
      "execution_count": null,
      "outputs": []
    },
    {
      "cell_type": "code",
      "metadata": {
        "id": "evTyLlPJMGQk"
      },
      "source": [
        "pivot = pd.pivot_table (data = df600, index = 'genres', values = 'name', aggfunc = 'count')\n",
        "pivot"
      ],
      "execution_count": null,
      "outputs": []
    },
    {
      "cell_type": "code",
      "metadata": {
        "id": "XVAHHvS1uClu"
      },
      "source": [
        "art_list = df20.artist.tolist()\n",
        "title_list = df20.title.tolist()\n",
        "new_list=[]\n",
        "for i in range(len(art_list)): \n",
        "  together=art_list[i]+\": \"+ title_list[i]\n",
        "  new_list+=[together]\n",
        "new_list"
      ],
      "execution_count": null,
      "outputs": []
    },
    {
      "cell_type": "code",
      "metadata": {
        "id": "xk27ku_CvSeK"
      },
      "source": [
        "df20['artist_title']=new_list\n",
        "df20"
      ],
      "execution_count": null,
      "outputs": []
    },
    {
      "cell_type": "code",
      "metadata": {
        "id": "q0TE5bM7vfcX"
      },
      "source": [
        "df20['artist_title'].unique()"
      ],
      "execution_count": null,
      "outputs": []
    },
    {
      "cell_type": "code",
      "metadata": {
        "id": "TgZCAAN0mEf3"
      },
      "source": [
        "df20[columns].hist()"
      ],
      "execution_count": null,
      "outputs": []
    },
    {
      "cell_type": "code",
      "metadata": {
        "id": "t-BeFmmGmiUt"
      },
      "source": [
        "df1.hist()\n",
        "#drop columns that don't match "
      ],
      "execution_count": null,
      "outputs": []
    },
    {
      "cell_type": "code",
      "metadata": {
        "id": "3idvLHLsHhLo"
      },
      "source": [
        "# df_average.to_csv('genres_with_average_scores.csv')\n",
        "# !cp genres_with_average_scores.csv \"drive/MyDrive/Project Programming/archive/\""
      ],
      "execution_count": null,
      "outputs": []
    },
    {
      "cell_type": "code",
      "metadata": {
        "id": "j5O2qKUTc7so"
      },
      "source": [
        "from google.colab import drive\n",
        "drive.mount('/content/drive')"
      ],
      "execution_count": null,
      "outputs": []
    },
    {
      "cell_type": "code",
      "metadata": {
        "id": "3listpJHDIzN"
      },
      "source": [
        "listing=df.genres.tolist()\n",
        "for i in listing:\n",
        "  print(i)"
      ],
      "execution_count": null,
      "outputs": []
    },
    {
      "cell_type": "code",
      "metadata": {
        "id": "6Nkllzi6OD2I"
      },
      "source": [
        "df_drop=df.drop(columns=['mode','key','popularity'],axis=1).set_index('genres')\n"
      ],
      "execution_count": null,
      "outputs": []
    },
    {
      "cell_type": "code",
      "metadata": {
        "id": "eleweN-SOkRC"
      },
      "source": [
        "df_drop"
      ],
      "execution_count": null,
      "outputs": []
    },
    {
      "cell_type": "code",
      "metadata": {
        "id": "yUIITfRCOtDQ"
      },
      "source": [
        "from sklearn.cluster import KMeans"
      ],
      "execution_count": null,
      "outputs": []
    },
    {
      "cell_type": "code",
      "metadata": {
        "id": "phCmkJ7sOvZK"
      },
      "source": [
        "#10 number of clusters\n",
        "#random_state=0 in order to initiate the cluster\n",
        "\n",
        "kmeans=KMeans(n_clusters=30, random_state=0).fit(df_drop)"
      ],
      "execution_count": null,
      "outputs": []
    },
    {
      "cell_type": "code",
      "metadata": {
        "id": "Me0JY8aFPCe7"
      },
      "source": [
        "kmeans_labels=kmeans.labels_"
      ],
      "execution_count": null,
      "outputs": []
    },
    {
      "cell_type": "code",
      "metadata": {
        "id": "BfYbHtQ2PKLQ"
      },
      "source": [
        "genre1 = df.genres[kmeans_labels== 3]"
      ],
      "execution_count": null,
      "outputs": []
    },
    {
      "cell_type": "code",
      "metadata": {
        "id": "QQs7GxtUQX1B"
      },
      "source": [
        "for genre in genre1: \n",
        "  print (genre)"
      ],
      "execution_count": null,
      "outputs": []
    },
    {
      "cell_type": "code",
      "metadata": {
        "id": "jTVMHY0DubXO"
      },
      "source": [
        "df2000=pd.read_csv('/content/drive/MyDrive/Project Programming/new_df_with_sentiment/spotify_2000_data_with_lyrics.csv')\n",
        "df2001=pd.read_csv('/content/drive/MyDrive/Project Programming/new_df_with_sentiment/spotify_2001_data_with_lyrics.csv')\n",
        "df2002=pd.read_csv('/content/drive/MyDrive/Project Programming/new_df_with_sentiment/spotify_2002_data_with_lyrics.csv')\n",
        "df2003=pd.read_csv('/content/drive/MyDrive/Project Programming/new_df_with_sentiment/spotify_2003_data_with_lyrics.csv')\n",
        "df2004=pd.read_csv('/content/drive/MyDrive/Project Programming/new_df_with_sentiment/spotify_2004_data_with_lyrics.csv')\n",
        "df2005=pd.read_csv('/content/drive/MyDrive/Project Programming/new_df_with_sentiment/spotify_2005_data_with_lyrics.csv')\n",
        "df2006=pd.read_csv('/content/drive/MyDrive/Project Programming/new_df_with_sentiment/spotify_2006_data_with_lyrics.csv')\n",
        "df2007=pd.read_csv('/content/drive/MyDrive/Project Programming/new_df_with_sentiment/spotify_2007_data_with_lyrics.csv')\n",
        "df2008=pd.read_csv('/content/drive/MyDrive/Project Programming/new_df_with_sentiment/spotify_2008_data_with_lyrics.csv')\n",
        "df2009=pd.read_csv('/content/drive/MyDrive/Project Programming/new_df_with_sentiment/spotify_2009_data_with_lyrics.csv')\n",
        "df2010=pd.read_csv('/content/drive/MyDrive/Project Programming/new_df_with_sentiment/spotify_2010_data_with_lyrics.csv')\n",
        "df2011=pd.read_csv('/content/drive/MyDrive/Project Programming/new_df_with_sentiment/spotify_2011_data_with_lyrics.csv')\n",
        "df2012=pd.read_csv('/content/drive/MyDrive/Project Programming/new_df_with_sentiment/spotify_2012_data_with_lyrics.csv')\n",
        "df2013=pd.read_csv('/content/drive/MyDrive/Project Programming/new_df_with_sentiment/spotify_2013_data_with_lyrics.csv')\n",
        "df2014=pd.read_csv('/content/drive/MyDrive/Project Programming/new_df_with_sentiment/spotify_2014_data_with_lyrics.csv')\n",
        "df2015=pd.read_csv('/content/drive/MyDrive/Project Programming/new_df_with_sentiment/spotify_2015_data_with_lyrics.csv')\n",
        "df2016=pd.read_csv('/content/drive/MyDrive/Project Programming/new_df_with_sentiment/spotify_2016_data_with_lyrics.csv')\n",
        "df2017=pd.read_csv('/content/drive/MyDrive/Project Programming/new_df_with_sentiment/spotify_2017_data_with_lyrics.csv')\n",
        "df2018=pd.read_csv('/content/drive/MyDrive/Project Programming/new_df_with_sentiment/spotify_2018_data_with_lyrics.csv')\n",
        "df2019=pd.read_csv('/content/drive/MyDrive/Project Programming/new_df_with_sentiment/spotify_2019_data_with_lyrics.csv')\n",
        "df2020=pd.read_csv('/content/drive/MyDrive/Project Programming/new_df_with_sentiment/spotify_2020_data_with_lyrics.csv')\n"
      ],
      "execution_count": null,
      "outputs": []
    },
    {
      "cell_type": "code",
      "metadata": {
        "id": "iiGkv6if04BS"
      },
      "source": [
        "dfwithscore = pd.concat([df2010,df2012,df2013,df2014,df2015,df2016,df2017,df2018,df2019,df2020])\n",
        "\n",
        "# df2012\n",
        "dfwithscore= dfwithscore.drop(columns=['Unnamed: 0', 'Unnamed: 0.1'], axis=1)\n",
        "dfwithscore = dfwithscore.rename(columns={\"scores\": \"sentiment_analysis\"})\n",
        "dfwithscore\n"
      ],
      "execution_count": null,
      "outputs": []
    },
    {
      "cell_type": "code",
      "metadata": {
        "id": "xw1oOrju05DX"
      },
      "source": [
        "df2020"
      ],
      "execution_count": null,
      "outputs": []
    },
    {
      "cell_type": "code",
      "metadata": {
        "id": "mKmMG8S4wHel"
      },
      "source": [
        "# df_concat = pd.concat([df2000,df2001,df2002,df2003,df2004,df2005,df2006,df2007,df2008,df2009,df2011,dfwithscore])\n",
        "# df_concat=df_concat.drop(columns=['Unnamed: 0'],axis=1)\n",
        "# df_concat = df_concat[df_concat.sentiment_analysis != 'NaN']\n",
        "\n",
        "df_concat = df_concat.dropna()\n",
        "df_concat\n"
      ],
      "execution_count": null,
      "outputs": []
    },
    {
      "cell_type": "code",
      "metadata": {
        "id": "QcU64D-hwhC7"
      },
      "source": [
        ""
      ],
      "execution_count": null,
      "outputs": []
    },
    {
      "cell_type": "code",
      "metadata": {
        "id": "FshCqHqchOPy"
      },
      "source": [
        "# df_concat.to_csv('data_with_sentimentanalysis_fixed.csv')\n",
        "# !cp data_with_sentimentanalysis_fixed.csv \"drive/MyDrive/Project Programming/archive/\""
      ],
      "execution_count": null,
      "outputs": []
    },
    {
      "cell_type": "code",
      "metadata": {
        "id": "ShfKMytAw8Jn"
      },
      "source": [
        "df_concat"
      ],
      "execution_count": null,
      "outputs": []
    },
    {
      "cell_type": "code",
      "metadata": {
        "id": "it1mzHtGjFzi"
      },
      "source": [
        "df_with_releasedate = pd.read_csv('/content/drive/MyDrive/Project Programming/archive/tracks.csv')\n",
        "# df=pd.read_csv('sample_data/data_by_genres_o.csv')\n",
        "df_with_releasedate"
      ],
      "execution_count": null,
      "outputs": []
    },
    {
      "cell_type": "code",
      "metadata": {
        "id": "trjqykKPteoJ"
      },
      "source": [
        "df_concat"
      ],
      "execution_count": null,
      "outputs": []
    },
    {
      "cell_type": "code",
      "metadata": {
        "id": "fmPsd5CfuArw"
      },
      "source": [
        "# df_concat['key']=df_concat['artist']+df_concat['title']"
      ],
      "execution_count": null,
      "outputs": []
    },
    {
      "cell_type": "code",
      "metadata": {
        "id": "tais0asipBf3"
      },
      "source": [
        "df_with_releasedate= df_with_releasedate.drop_duplicates()\n",
        "df_concat=df_concat.drop_duplicates()\n",
        "\n",
        "df_with_releasedate = df_with_releasedate.rename(columns={\"name\": \"title\"})\n",
        "\n",
        "# df_with_releasedate['artist'] = df_with_releasedate['artist'].str.replace(\"[\\[\\]\\\"']\", \"\")\n",
        "# df_with_releasedate\n"
      ],
      "execution_count": null,
      "outputs": []
    },
    {
      "cell_type": "code",
      "metadata": {
        "id": "kEViJ4czjVw4"
      },
      "source": [
        "df_final_releasdate_sentiment = df_concat.merge(df_with_releasedate, on= ['title', 'artist', 'danceability', 'energy'],\n",
        "                        how='inner')\n",
        "df_final_releasdate_sentiment\n"
      ],
      "execution_count": null,
      "outputs": []
    },
    {
      "cell_type": "code",
      "metadata": {
        "id": "8Fo03CEpvUp4"
      },
      "source": [
        "# df_final_releasdate_sentiment= df_final_releasdate_sentiment.drop(columns=['loudness_y'\t,\t'speechiness_y',\t'acousticness_y',\t'instrumentalness_y',\t'liveness_y',\t'valence_y',\t'tempo_y'\t])\n",
        "# df_final_releasdate_sentiment = df_final_releasdate_sentiment.rename(columns={\"loudness_x\": \"loudness\", \"speechiness_x\": \"speechiness\", \"acousticness_x\": \"acousticness\", \"instrumentalness_x\": \"instrumentalness\",\"liveness_x\": \"liveness\", \"valence_x\": \"valence\", \"tempo_x\t\": \"tempo\",})\n",
        "# df_final_releasdate_sentiment"
      ],
      "execution_count": null,
      "outputs": []
    },
    {
      "cell_type": "code",
      "metadata": {
        "id": "-GwqrXycs85L"
      },
      "source": [
        "# df_final_releasdate_sentiment=df_final_releasdate_sentiment.drop(columns=['id'],axis=1)\n",
        "# df_final_releasdate_sentiment=df_final_releasdate_sentiment.drop_duplicates()\n",
        "# df_final_releasdate_sentiment"
      ],
      "execution_count": null,
      "outputs": []
    },
    {
      "cell_type": "code",
      "metadata": {
        "id": "K8eTgj2NuuhK"
      },
      "source": [
        "# df_final_releasdate_sentiment.to_csv('data_final_releasdate_sentiment.csv')\n",
        "# !cp data_final_releasdate_sentiment.csv \"drive/MyDrive/Project Programming/archive/\""
      ],
      "execution_count": null,
      "outputs": []
    },
    {
      "cell_type": "code",
      "metadata": {
        "id": "32ymaNMwscNW"
      },
      "source": [
        "df_final_releasdate_sentiment=pd.read_csv('/content/drive/MyDrive/Project Programming/archive/data_final_releasdate_sentiment.csv')\n",
        "df_final_releasdate_sentiment"
      ],
      "execution_count": null,
      "outputs": []
    },
    {
      "cell_type": "code",
      "metadata": {
        "id": "yTbK8SBE95LV"
      },
      "source": [
        "df_all=pd.read_csv('/content/drive/MyDrive/Project Programming/archive/data_by_year_o.csv')\n",
        "df_all"
      ],
      "execution_count": null,
      "outputs": []
    },
    {
      "cell_type": "code",
      "metadata": {
        "id": "VLIhGeBb1eWK"
      },
      "source": [
        "year_avg = df_all[[\"acousticness\",\"danceability\",\"energy\", \"instrumentalness\", \n",
        "               \"liveness\",\"tempo\", \"valence\", \"loudness\", \"speechiness\", \"year\"]].groupby(\"year\").mean().sort_values(by=\"year\").reset_index()\n",
        "\n"
      ],
      "execution_count": null,
      "outputs": []
    },
    {
      "cell_type": "code",
      "metadata": {
        "id": "gb_IGokA2mM6"
      },
      "source": [
        "import matplotlib.pyplot as plt\n",
        "import seaborn as sns\n",
        "# Create a line plot\n",
        "plt.figure(figsize=(14,8))\n",
        "plt.title(\"Song Trends Over Time\", fontdict={\"fontsize\": 15})\n",
        "\n",
        "lines = [\"acousticness\",\"danceability\",\"energy\", \n",
        "         \"instrumentalness\", \"liveness\", \"valence\", \"speechiness\"]\n",
        "\n",
        "for line in lines:\n",
        "    ax = sns.lineplot(x='year', y=line, data=year_avg)\n",
        "    \n",
        "    \n",
        "plt.ylabel(\"value\")\n",
        "plt.legend(lines)"
      ],
      "execution_count": null,
      "outputs": []
    },
    {
      "cell_type": "code",
      "metadata": {
        "id": "PCr3ssf13nQB"
      },
      "source": [
        "pd_everything = pd.read_csv('/content/drive/MyDrive/Project Programming/archive/tracks.csv')\n",
        "pd_everything"
      ],
      "execution_count": null,
      "outputs": []
    },
    {
      "cell_type": "code",
      "metadata": {
        "id": "mr_gm8Si4A4U"
      },
      "source": [
        "from sklearn.linear_model import LinearRegression"
      ],
      "execution_count": null,
      "outputs": []
    },
    {
      "cell_type": "code",
      "metadata": {
        "id": "Co3Slqxe4vjG"
      },
      "source": [
        "x=pd_everything[['energy']]\n",
        "y=pd_everything.loudness"
      ],
      "execution_count": null,
      "outputs": []
    },
    {
      "cell_type": "code",
      "metadata": {
        "id": "YgdCB_6y-_jO"
      },
      "source": [
        "\n",
        "lr = LinearRegression()\n",
        "lr.fit(x,y)\n",
        "print(\"Intercept coefficient:\",  lr.intercept_)\n",
        "print(\"Number of coefficients:\",  len(lr.coef_))\n"
      ],
      "execution_count": null,
      "outputs": []
    },
    {
      "cell_type": "code",
      "metadata": {
        "id": "W48g_D4IAPqh"
      },
      "source": [
        "lr.score(x,y)"
      ],
      "execution_count": null,
      "outputs": []
    },
    {
      "cell_type": "code",
      "metadata": {
        "id": "8RL1U9eHAb5Z"
      },
      "source": [
        "import matplotlib.pyplot as plt\n",
        "plt.scatter(x,y)"
      ],
      "execution_count": null,
      "outputs": []
    },
    {
      "cell_type": "code",
      "metadata": {
        "id": "dWn6-Pbb_UQ-"
      },
      "source": [
        "df_new=df_concat.drop(columns=['sentiment_analysis','Unnamed: 0.1','scores','lyrics'])\n",
        "df_new"
      ],
      "execution_count": null,
      "outputs": []
    },
    {
      "cell_type": "code",
      "metadata": {
        "id": "nwCy2p6I_UKV"
      },
      "source": [
        "df_new.corr()"
      ],
      "execution_count": null,
      "outputs": []
    },
    {
      "cell_type": "code",
      "metadata": {
        "id": "X00v8SKCBPAV"
      },
      "source": [
        "\n",
        "pd_everything['release_date']=pd.to_datetime(pd_everything['release_date'])\n",
        "pd_everything.dtypes"
      ],
      "execution_count": null,
      "outputs": []
    },
    {
      "cell_type": "code",
      "metadata": {
        "id": "OPIK6S9-GhIh"
      },
      "source": [
        "#Trying with time series machine learning model\n",
        "#plotting \n",
        "df_greater=pd_everything.loc[(pd_everything['release_date']>='2010/1/1')]\n",
        "df_greater"
      ],
      "execution_count": null,
      "outputs": []
    },
    {
      "cell_type": "code",
      "metadata": {
        "id": "Jq-pH4A0QO_Z"
      },
      "source": [
        ""
      ],
      "execution_count": null,
      "outputs": []
    },
    {
      "cell_type": "code",
      "metadata": {
        "id": "wfChi81jMmeY"
      },
      "source": [
        "tracksdf = pd.read_csv('/content/drive/MyDrive/Project Programming/archive/data_o.csv')\n",
        "\n",
        "tracksdf"
      ],
      "execution_count": null,
      "outputs": []
    },
    {
      "cell_type": "code",
      "metadata": {
        "id": "FuCCw-qaZx5t"
      },
      "source": [
        "artistsdf = pd.read_csv('/content/drive/MyDrive/Project Programming/archive/data_by_artist_o.csv')\n",
        "\n",
        "artistsdf"
      ],
      "execution_count": null,
      "outputs": []
    },
    {
      "cell_type": "code",
      "metadata": {
        "id": "JbCSkftAalQ5"
      },
      "source": [
        "# all following code from https://www.kaggle.com/capricode2512/music-trends-1921-2020-eda/notebook?select=data_w_genres.csv to make a new \n",
        "# df with all the components from artistsdf and adding the years from tracksdf. Then we graph to see popularity of genres over time.\n",
        "\n",
        "genre = artistsdf[['genres','artists']]\n",
        "genre=genre[genre[\"genres\"]!=\"[]\"]\n",
        "genre[\"genres\"]=genre[\"genres\"].str.replace(\"'\", \"\")\n",
        "genre[\"genres\"]=genre[\"genres\"].str.replace(\"[\", \"\")\n",
        "genre[\"genres\"]=genre[\"genres\"].str.replace(\"]\", \"\")\n",
        "\n",
        "genre.head(10)"
      ],
      "execution_count": null,
      "outputs": []
    },
    {
      "cell_type": "code",
      "metadata": {
        "id": "Cj6vbgyodbbp"
      },
      "source": [
        "pattern_classical='orchestra[\\s\\S]*|\\b?[\\s\\S]*classical[\\s\\S]*\\b?|[\\s\\S]*piano[\\s\\S]+|opera'\n",
        "pattern_movies=r'\\bbroadway[\\s\\S]*|\\b[\\s\\S]*movie[\\s\\S]+|\\b[\\s\\S]*show[\\s\\S]+|\\b[\\s\\S]*hollywood'\n",
        "pattern_kpop=r'[\\s\\S]+k[-]?pop[\\s\\S]+'\n",
        "pattern_rock=r'[\\s\\S]+ rock[\\s\\S]*|[\\s\\S]+metal[\\s\\S]*|[\\s\\S]+punk[\\s\\S]*'\n",
        "pattern_pop=r'[\\s\\S]+pop[\\s\\S]*'\n",
        "pattern_rap=r'[\\s\\S]* rap[\\s\\S]*'\n",
        "pattern_jazz=r'[\\s\\S]*jazz[\\s\\S]*|bossa nova'\n",
        "pattern_reggae=r'\\b[\\s\\S]*reggae[\\s\\S]*'\n",
        "pattern_r=r'[\\s\\S]*christian[\\s\\S]*|[\\s\\S]*gospel[\\s\\S]*'\n",
        "pattern_folk=r\"[\\s\\S]*folk[\\s\\S]*|\\brebetiko|hawaiian, jawaiian|ukulele|duranguense|grupera|ranchera|[\\s\\S]*regional mexican|norteno|latin\"\n",
        "pattern_country=r'[\\s\\S]*country[\\s\\S]*|\\btejano\\b'\n",
        "pattern_rnb=r'[\\s\\S]*blues[\\s\\S]*|[\\s\\S]*r&b[\\s\\S]*'\n",
        "pattern_funk=r'[\\s\\S]*funk[\\s\\S]*|[\\s\\S]*disco[\\s\\S]*|[\\s\\S]*hip hop[\\s\\S]*'\n",
        "pattern_edm=r'electronica|[\\s\\S]*edm[\\s\\S]*|electro house|electronic trap'\n",
        "\n",
        "\n",
        "\n",
        "genre[\"genres_main\"]=genre[\"genres\"].str.replace(pattern_classical,\"classical\")\n",
        "genre[\"genres_main\"]=genre[\"genres_main\"].str.replace(pattern_movies,\"movies_and_broadway\")\n",
        "genre[\"genres_main\"]=genre[\"genres_main\"].str.replace(pattern_r,\"religiuos\")\n",
        "genre[\"genres_main\"]=genre[\"genres_main\"].str.replace(pattern_kpop,\"kPop\")\n",
        "genre[\"genres_main\"]=genre[\"genres_main\"].str.replace(pattern_reggae,\"reggaeton\")\n",
        "genre[\"genres_main\"]=genre[\"genres_main\"].str.replace(pattern_rap,\"rap\")\n",
        "genre[\"genres_main\"]=genre[\"genres_main\"].str.replace(pattern_rock,\"rock\")\n",
        "genre[\"genres_main\"]=genre[\"genres_main\"].str.replace(pattern_pop,\"pop\")\n",
        "genre[\"genres_main\"]=genre[\"genres_main\"].str.replace(pattern_jazz,\"jazz\")\n",
        "genre[\"genres_main\"]=genre[\"genres_main\"].str.replace(pattern_country,\"country music\")\n",
        "genre[\"genres_main\"]=genre[\"genres_main\"].str.replace(pattern_folk,\"folk\")\n",
        "genre[\"genres_main\"]=genre[\"genres_main\"].str.replace(pattern_rnb,\"rhythm_and_blues\")\n",
        "genre[\"genres_main\"]=genre[\"genres_main\"].str.replace(pattern_funk,\"funk\")\n",
        "genre[\"genres_main\"]=genre[\"genres_main\"].str.replace(pattern_edm,\"edm\")"
      ],
      "execution_count": null,
      "outputs": []
    },
    {
      "cell_type": "code",
      "metadata": {
        "id": "haPV9K8lBU-W"
      },
      "source": [
        "genre['genres_main'].value_counts()"
      ],
      "execution_count": null,
      "outputs": []
    },
    {
      "cell_type": "code",
      "metadata": {
        "id": "7ZuMngYPdmFl"
      },
      "source": [
        "artist_dictionary={}\n",
        "for index, row in genre.iterrows():\n",
        "    artist_name=row[\"artists\"]\n",
        "    artist_genre=row[\"genres_main\"]\n",
        "    artist_dictionary[artist_name]=artist_genre\n",
        "\n",
        "artist_dictionary"
      ],
      "execution_count": null,
      "outputs": []
    },
    {
      "cell_type": "code",
      "metadata": {
        "id": "pOGpm4OrBple"
      },
      "source": [
        "tracksdf"
      ],
      "execution_count": null,
      "outputs": []
    },
    {
      "cell_type": "code",
      "metadata": {
        "id": "-2kRtL7wdn4T"
      },
      "source": [
        "tracksdf[\"artists\"]=tracksdf[\"artists\"].str.replace(\"\\[\",\"\")\n",
        "tracksdf[\"artists\"]=tracksdf[\"artists\"].str.replace(\"\\]\",\"\")\n",
        "tracksdf[\"artists\"]=tracksdf[\"artists\"].str.replace(\", \",\",\")\n",
        "tracksdf[\"artists\"]=tracksdf[\"artists\"].str.split(\",\")\n",
        "\n",
        "def find_genre(column):\n",
        "    music_style=[]\n",
        "    for artist in column:\n",
        "        artist=artist.strip(\"'\")\n",
        "        if artist in artist_dictionary:\n",
        "            #print(artist)\n",
        "            music_style.append(artist_dictionary[artist])\n",
        "    return music_style\n",
        "            \n",
        "tracksdf[\"genre\"]=tracksdf[\"artists\"].apply(find_genre)\n",
        "tracksdf.info()"
      ],
      "execution_count": null,
      "outputs": []
    },
    {
      "cell_type": "code",
      "metadata": {
        "id": "-lRk0ixJeE5h"
      },
      "source": [
        "tracksdf[\"genre\"]=tracksdf[\"genre\"].astype(str)\n",
        "tracksdf[\"genre\"]=tracksdf[\"genre\"].str.replace(\"]\",\"\")\n",
        "tracksdf[\"genre\"]=tracksdf[\"genre\"].str.replace(\"[\",\"\")"
      ],
      "execution_count": null,
      "outputs": []
    },
    {
      "cell_type": "code",
      "metadata": {
        "id": "1oVxN__neQL2"
      },
      "source": [
        "tracksdf=tracksdf[tracksdf[\"genre\"]!=\"\"]\n",
        "tracksdf[\"genre\"]=tracksdf[\"genre\"].str.strip(\"'\")\n",
        "tracksdf[\"genre\"]=tracksdf[\"genre\"].str.replace(\"', '\", \",\")\n",
        "tracksdf[\"genre\"]=tracksdf[\"genre\"].str.replace(r\"classical,{1,}[\\s\\S]*\",\"classical\")\n",
        "tracksdf[\"genre\"]=tracksdf[\"genre\"].str.replace(r\"movies_and_broadway,{1,}[\\s\\S]*\",\"movies_and_broadway\")\n",
        "tracksdf[\"genre\"]=tracksdf[\"genre\"].str.replace(r\"[\\s\\S]*bollywood[\\s\\S]*|[\\s\\S]*filmi[\\s\\S]*\",\"bollywood\")\n",
        "tracksdf[\"genre\"]=tracksdf[\"genre\"].str.replace(r\"\\brap,+rap\\b\",\"rap\")\n",
        "tracksdf[\"genre\"]=tracksdf[\"genre\"].str.replace(r\"\\bfolk,+folk\\b|folkfolk\",\"folk\")\n",
        "tracksdf[\"genre\"]=tracksdf[\"genre\"].str.replace(r\"jazz,+jazz\\b\",\"jazz\")\n",
        "tracksdf[\"genre\"]=tracksdf[\"genre\"].str.replace(r\"\\bpop,+pop\\b\",\"pop\")\n",
        "tracksdf[\"genre\"]=tracksdf[\"genre\"].str.replace(r\"rock,rock\",\"rock\")\n",
        "tracksdf[\"genre\"]=tracksdf[\"genre\"].str.replace(r\"[\\s\\S]*folk, ?mariachi, folk\",\"folk\")\n",
        "tracksdf[\"genre\"]=tracksdf[\"genre\"].str.replace(r\"reggaeton,reggaeton\",\"reggaeton\")\n",
        "tracksdf[\"genre\"]=tracksdf[\"genre\"].str.replace(r\"country music,country music\",\"country music\")\n",
        "tracksdf[\"genre\"]=tracksdf[\"genre\"].str.replace(r\"rap,+rap\",\"rap\")"
      ],
      "execution_count": null,
      "outputs": []
    },
    {
      "cell_type": "code",
      "metadata": {
        "id": "RhDdU9Vhel7m"
      },
      "source": [
        "tracksdf['genre'].value_counts()"
      ],
      "execution_count": null,
      "outputs": []
    },
    {
      "cell_type": "code",
      "metadata": {
        "id": "3LFICz5ccg-K"
      },
      "source": [
        "main_genres_list=[\"rock\",\"classical\",\"pop\",\"jazz\",\"rap\",\"folk\",\"country music\",\"funk\",\"reggaeton\",\"movies_and_broadway\",\n",
        "                     \"religiuos\",\"rhythm_and_blues\",\"bollywood\",\"kPop\"]\n",
        "\n",
        "tracksdf1=tracksdf[tracksdf[\"genre\"].isin(main_genres_list)]"
      ],
      "execution_count": null,
      "outputs": []
    },
    {
      "cell_type": "code",
      "metadata": {
        "id": "bFCTcw8weysY"
      },
      "source": [
        "tracksdf1[\"artists\"]=tracksdf1[\"artists\"].astype(str)\n",
        "tracksdf1[\"artists\"]=tracksdf1[\"artists\"].str.strip('[]\"')\n",
        "tracksdf1[\"artists\"]=tracksdf1[\"artists\"].str.replace('\\'','').str.replace('\"',\"\")"
      ],
      "execution_count": null,
      "outputs": []
    },
    {
      "cell_type": "code",
      "metadata": {
        "id": "nG9rpJyd7Gm6"
      },
      "source": [
        "tracksdf1[\"duration_ms\"]=tracksdf1[\"duration_ms\"]/1000\n",
        "tracksdf1[\"duration_ms\"].value_counts(bins=30)"
      ],
      "execution_count": null,
      "outputs": []
    },
    {
      "cell_type": "code",
      "metadata": {
        "id": "e_Taa8B17dOs"
      },
      "source": [
        "# Creating a list of time values which will replace the duration_ms column for each row\n",
        "list_time=[x for x in range(60,1740,60)]\n",
        "list_time_2=[x for x in range (1740,3840,240)] # Longer songs are less, so larger intervals created.\n",
        "list_time+=list_time_2\n",
        "\n",
        "#Replace values of column\"duration_ms\" using  list_time\n",
        "def round_duration(value):\n",
        "    for time in list_time:\n",
        "        if value<=time:\n",
        "            new_value=time\n",
        "            break\n",
        "    return new_value\n",
        "\n",
        "tracksdf1[\"duration_ms\"]=tracksdf1[\"duration_ms\"].apply(round_duration) "
      ],
      "execution_count": null,
      "outputs": []
    },
    {
      "cell_type": "code",
      "metadata": {
        "id": "zZMv6ksae9yH"
      },
      "source": [
        "grouped=tracksdf1.groupby(['artists','genre','year'], as_index=False)"
      ],
      "execution_count": null,
      "outputs": []
    },
    {
      "cell_type": "code",
      "metadata": {
        "id": "OTuvc8MIfGQg"
      },
      "source": [
        "group_mean=grouped[[\"duration_ms\",\"popularity\"]].mean()\n",
        "group_count=grouped[\"name\"].count()\n",
        "group_mean\n",
        "group_mean[\"genre\"]=group_mean[\"genre\"].astype(str)\n",
        "group_mean[\"song_count\"]=group_count[\"name\"]\n",
        "group_mean.head(5)"
      ],
      "execution_count": null,
      "outputs": []
    },
    {
      "cell_type": "code",
      "metadata": {
        "id": "ZspETL4hfSzP"
      },
      "source": [
        "import plotly\n",
        "import plotly.express as px\n",
        "import plotly.io as pio"
      ],
      "execution_count": null,
      "outputs": []
    },
    {
      "cell_type": "code",
      "metadata": {
        "id": "51SFTsWofT13"
      },
      "source": [
        "group_mean=group_mean.sort_values('year')\n",
        "\n",
        "group_mean.head(10)"
      ],
      "execution_count": null,
      "outputs": []
    },
    {
      "cell_type": "code",
      "metadata": {
        "id": "htnEVo39fusN"
      },
      "source": [
        "missing_data=group_mean[group_mean['year']==1921]\n",
        "present_list=missing_data['genre'].unique().tolist()\n",
        "\n",
        "for genre in main_genres_list:\n",
        "    if genre not in present_list:\n",
        "        dict_new={'artists': \"blank\", 'genre': genre, 'year': 1921,'duration_ms':100,'popularity':0, 'song_count':0}\n",
        "        group_mean=group_mean.append(dict_new, ignore_index=True)"
      ],
      "execution_count": null,
      "outputs": []
    },
    {
      "cell_type": "code",
      "metadata": {
        "id": "wqsKfwmICxB2"
      },
      "source": [
        "# Creating new dataframe by aggregation \n",
        "\n",
        "missing_data=tracksdf1[tracksdf1['year']==1921]\n",
        "present_list=missing_data['genre'].unique().tolist()\n",
        "\n",
        "for genre in main_genres_list:\n",
        "    if genre not in present_list:\n",
        "        dict_new={'artists': \"blank\", 'genre': genre, 'year': 1921,'duration_ms':100,'popularity':0, 'song_count':0}\n",
        "        tracksdf1=tracksdf1.append(dict_new, ignore_index=True)\n",
        "tracksdf1=tracksdf1.sort_values('year')"
      ],
      "execution_count": null,
      "outputs": []
    },
    {
      "cell_type": "code",
      "metadata": {
        "id": "1aQPQOdGgBRL"
      },
      "source": [
        "grouped_2=group_mean.groupby(['genre','year'],as_index=False)\n",
        "df_a=grouped_2['artists'].count()\n",
        "df_b=grouped_2['song_count'].sum()\n",
        "df_c=grouped_2['popularity'].mean()\n",
        "df_a['song_count']=df_b['song_count']\n",
        "df_a['popularity']=df_c['popularity']\n",
        "df_a=df_a.sort_values('year')"
      ],
      "execution_count": null,
      "outputs": []
    },
    {
      "cell_type": "code",
      "metadata": {
        "id": "kU5uyXu4gDgk"
      },
      "source": [
        "years_df_a=[i for i in range(1922,2021)]\n",
        "for genre in main_genres_list:\n",
        "    test_df=df_a[df_a[\"genre\"]==genre]\n",
        "    test_list= test_df['year'].unique().tolist()\n",
        "    for year in years_df_a:\n",
        "        if year not in test_list:\n",
        "            dict_new_1={'artists': 0, 'genre': genre, 'year': year,'duration_ms':0,'popularity':0, 'song_count':0}\n",
        "            df_a=df_a.append(dict_new_1, ignore_index=True)"
      ],
      "execution_count": null,
      "outputs": []
    },
    {
      "cell_type": "code",
      "metadata": {
        "id": "i1VqlYD2gKUn"
      },
      "source": [
        "color_discrete_map={'classical':'#AA0DFE', 'pop':'#3283FE', 'movies_and_broadway':'#85660D', 'jazz':'#16FF32', 'rock':'#565656',\n",
        "       'religiuos': '#1C8356', 'funk':'#782AB6', 'reggaeton':'#FA0087', 'country music':'#FE00FA',\n",
        "       'rhythm_and_blues':'#1CBE4F', 'folk':'#C4451C','rap':'#DEA0FD','kPop':'#B00068'}\n",
        "fig=px.scatter(data_frame=df_a,x=\"popularity\",y=\"song_count\",color=\"genre\",size=\"artists\",size_max=60,\\\n",
        "               color_discrete_map=color_discrete_map,\\\n",
        "               hover_name=\"genre\",animation_frame=\"year\",range_x=[0,90],range_y=[0,1500],\\\n",
        "              title=\"SPOTIFY: TRENDS OF MUSIC FROM 1921 TO 2020\",labels={\"popularity\":\"popularity\",\"song_count\":\"song_count\"})\n",
        "fig.update_layout(autosize=False,width=800,height=550,\\\n",
        "                  title={'x':0.5,'xanchor':'center','font':{'size':20}},\n",
        "                  xaxis={'title': {'text': 'POPULARITY'}},\n",
        "                  yaxis={'title': {'text': 'NUMBER OF SONGS'}},\n",
        "                  legend={'font':{'size':18}})\n",
        "fig.update_yaxes(automargin=True)\n",
        "fig.update_xaxes(automargin=True)\n",
        "fig.layout.updatemenus[0].buttons[0].args[1][\"frame\"][\"duration\"] = 900\n",
        "pio.show(fig)"
      ],
      "execution_count": null,
      "outputs": []
    }
  ]
}